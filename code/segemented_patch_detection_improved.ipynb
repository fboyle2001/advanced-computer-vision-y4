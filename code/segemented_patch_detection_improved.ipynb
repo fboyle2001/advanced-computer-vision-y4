{
 "cells": [
  {
   "cell_type": "code",
   "execution_count": 1,
   "id": "5e3c47d9-b3e6-4b0b-8399-6a4bdbbfbfc7",
   "metadata": {
    "tags": []
   },
   "outputs": [],
   "source": [
    "import random\n",
    "import time\n",
    "import os\n",
    "\n",
    "import cv2\n",
    "import numpy as np\n",
    "\n",
    "import torch\n",
    "import torchvision\n",
    "from PIL import Image, ImageFilter\n",
    "from IPython import display\n",
    "\n",
    "import torchvision.models\n",
    "from torchvision.transforms import transforms\n",
    "\n",
    "from tqdm.notebook import tqdm\n",
    "\n",
    "import matplotlib.pyplot as plt\n",
    "\n",
    "import imagehash"
   ]
  },
  {
   "cell_type": "code",
   "execution_count": 72,
   "id": "9c3e15bf-e4ce-4491-bc20-7508480a3c63",
   "metadata": {
    "tags": []
   },
   "outputs": [],
   "source": [
    "base = \"Train/Game\"\n",
    "classes = [\"Full Body Sitting\", \"Full Body Standing\", \"Half Body\", \"Head Only\"]\n",
    "\n",
    "input_directories = [f\"./temporal_data_extraction/human_poses_classified/{base}/{class_name}\" for class_name in classes]"
   ]
  },
  {
   "cell_type": "code",
   "execution_count": 39,
   "id": "188b4d8e-0e92-4a97-9aa2-0e65c6544965",
   "metadata": {
    "tags": []
   },
   "outputs": [
    {
     "name": "stdout",
     "output_type": "stream",
     "text": [
      "./temporal_data_extraction/human_poses_classified/Train/Movie/Full Body Sitting\n"
     ]
    },
    {
     "data": {
      "application/vnd.jupyter.widget-view+json": {
       "model_id": "2473027efad9400b9db7269059ec4fe9",
       "version_major": 2,
       "version_minor": 0
      },
      "text/plain": [
       "  0%|          | 0/55 [00:00<?, ?it/s]"
      ]
     },
     "metadata": {},
     "output_type": "display_data"
    },
    {
     "name": "stdout",
     "output_type": "stream",
     "text": [
      "./temporal_data_extraction/human_poses_classified/Train/Movie/Full Body Standing\n"
     ]
    },
    {
     "data": {
      "application/vnd.jupyter.widget-view+json": {
       "model_id": "64d3f82a42654ed4bcd0e162943f2958",
       "version_major": 2,
       "version_minor": 0
      },
      "text/plain": [
       "  0%|          | 0/1157 [00:00<?, ?it/s]"
      ]
     },
     "metadata": {},
     "output_type": "display_data"
    },
    {
     "name": "stdout",
     "output_type": "stream",
     "text": [
      "./temporal_data_extraction/human_poses_classified/Train/Movie/Half Body\n"
     ]
    },
    {
     "data": {
      "application/vnd.jupyter.widget-view+json": {
       "model_id": "e091727c62614c4f95a34cf714707290",
       "version_major": 2,
       "version_minor": 0
      },
      "text/plain": [
       "  0%|          | 0/5331 [00:00<?, ?it/s]"
      ]
     },
     "metadata": {},
     "output_type": "display_data"
    },
    {
     "name": "stdout",
     "output_type": "stream",
     "text": [
      "./temporal_data_extraction/human_poses_classified/Train/Movie/Head Only\n"
     ]
    },
    {
     "data": {
      "application/vnd.jupyter.widget-view+json": {
       "model_id": "2f919d48f8e74cbe885a19698ee8b0b6",
       "version_major": 2,
       "version_minor": 0
      },
      "text/plain": [
       "  0%|          | 0/3661 [00:00<?, ?it/s]"
      ]
     },
     "metadata": {},
     "output_type": "display_data"
    }
   ],
   "source": [
    "max_segments_from_image = -1\n",
    "width_height_counts = {}\n",
    "area_counts = {}\n",
    "\n",
    "for input_directory in input_directories:\n",
    "    print(input_directory)\n",
    "    for image_name in tqdm(os.listdir(input_directory)):\n",
    "        if image_name.split(\".\")[-1] != \"jpg\":\n",
    "            continue\n",
    "            \n",
    "        segment_count = int(image_name.split(\"_\")[-1].split(\".\")[0])\n",
    "        \n",
    "        if segment_count > max_segments_from_image:\n",
    "            max_segments_from_image = segment_count\n",
    "        \n",
    "        image_location = f\"{input_directory}/{image_name}\"\n",
    "        image = Image.open(image_location)\n",
    "        width, height = image.size\n",
    "        \n",
    "        size_tup = (width, height)\n",
    "        area = width * height\n",
    "        \n",
    "        if size_tup not in width_height_counts.keys():\n",
    "            width_height_counts[size_tup] = 0\n",
    "            \n",
    "        if area not in area_counts.keys():\n",
    "            area_counts[area] = 0\n",
    "        \n",
    "        width_height_counts[size_tup] += 1\n",
    "        area_counts[area] += 1"
   ]
  },
  {
   "cell_type": "code",
   "execution_count": 40,
   "id": "df00f163-5039-473c-b97d-40878fbbf454",
   "metadata": {
    "tags": []
   },
   "outputs": [
    {
     "data": {
      "text/plain": [
       "(array([ 513.,  748.,  759.,  678.,  449.,  602., 1043.,  548.,  883.,\n",
       "         465.,  576.,  490.,  334.,  301.,  296.,  401.,  261.,  522.,\n",
       "         299.,   36.]),\n",
       " array([   510. ,   8437.7,  16365.4,  24293.1,  32220.8,  40148.5,\n",
       "         48076.2,  56003.9,  63931.6,  71859.3,  79787. ,  87714.7,\n",
       "         95642.4, 103570.1, 111497.8, 119425.5, 127353.2, 135280.9,\n",
       "        143208.6, 151136.3, 159064. ]),\n",
       " <BarContainer object of 20 artists>)"
      ]
     },
     "execution_count": 40,
     "metadata": {},
     "output_type": "execute_result"
    },
    {
     "data": {
      "image/png": "[encoded data removed]",
      "text/plain": [
       "<Figure size 640x480 with 1 Axes>"
      ]
     },
     "metadata": {},
     "output_type": "display_data"
    }
   ],
   "source": [
    "# https://stackoverflow.com/a/66737321\n",
    "mylist = [key for key, val in area_counts.items() for _ in range(val)]\n",
    "plt.hist(mylist, bins=20)"
   ]
  },
  {
   "cell_type": "code",
   "execution_count": 41,
   "id": "3a9f4dea-9c1c-43ef-8cab-30dc40267b76",
   "metadata": {
    "tags": []
   },
   "outputs": [
    {
     "data": {
      "text/plain": [
       "8"
      ]
     },
     "execution_count": 41,
     "metadata": {},
     "output_type": "execute_result"
    }
   ],
   "source": [
    "max_segments_from_image"
   ]
  },
  {
   "cell_type": "code",
   "execution_count": 42,
   "id": "2cc5b821-96a2-4d06-b144-a272d3fe1aff",
   "metadata": {
    "tags": []
   },
   "outputs": [],
   "source": [
    "cutoff = 8\n",
    "window = 5"
   ]
  },
  {
   "cell_type": "code",
   "execution_count": 43,
   "id": "0aac76f8-e182-499b-98a8-9d183b34eb69",
   "metadata": {
    "tags": []
   },
   "outputs": [],
   "source": [
    "def group_similar_images(ordered_dir, cutoff, window):\n",
    "    image_locs = [f\"{ordered_dir}/{file_name}\" for file_name in os.listdir(ordered_dir) if file_name.endswith(\".jpg\")]\n",
    "    groups = [[image_locs[0]]]\n",
    "    \n",
    "    for image_loc in tqdm(image_locs):\n",
    "        img_hash = imagehash.average_hash(Image.open(image_loc))\n",
    "        \n",
    "        closest_group_idx = -1\n",
    "        closest_group_diff = 65\n",
    "        \n",
    "        for offset, group in enumerate(groups[-window:][::-1]):\n",
    "            group_idx = len(groups) - offset - 1\n",
    "            last_hash = imagehash.average_hash(Image.open(group[-1]))\n",
    "            diff = img_hash - last_hash\n",
    "            \n",
    "            if diff < closest_group_diff:\n",
    "                closest_group_idx = group_idx\n",
    "                closest_group_diff = diff\n",
    "        \n",
    "        diff = img_hash - last_hash\n",
    "        \n",
    "        if closest_group_diff <= cutoff:\n",
    "            groups[closest_group_idx].append(image_loc)\n",
    "        else:\n",
    "            groups.append([image_loc])\n",
    "    \n",
    "    return groups"
   ]
  },
  {
   "cell_type": "code",
   "execution_count": 44,
   "id": "7a77d057-70e4-4715-bc38-a51370ee9842",
   "metadata": {
    "tags": []
   },
   "outputs": [
    {
     "data": {
      "application/vnd.jupyter.widget-view+json": {
       "model_id": "576e6bc56e0d465aa3500b29134df4b0",
       "version_major": 2,
       "version_minor": 0
      },
      "text/plain": [
       "  0%|          | 0/55 [00:00<?, ?it/s]"
      ]
     },
     "metadata": {},
     "output_type": "display_data"
    },
    {
     "name": "stdout",
     "output_type": "stream",
     "text": [
      "45\n"
     ]
    },
    {
     "data": {
      "application/vnd.jupyter.widget-view+json": {
       "model_id": "955f5f65cc47427fb2a73696347da3d0",
       "version_major": 2,
       "version_minor": 0
      },
      "text/plain": [
       "  0%|          | 0/1157 [00:00<?, ?it/s]"
      ]
     },
     "metadata": {},
     "output_type": "display_data"
    },
    {
     "name": "stdout",
     "output_type": "stream",
     "text": [
      "251\n"
     ]
    },
    {
     "data": {
      "application/vnd.jupyter.widget-view+json": {
       "model_id": "011bfd1c034b436e929238b16ab7607c",
       "version_major": 2,
       "version_minor": 0
      },
      "text/plain": [
       "  0%|          | 0/5331 [00:00<?, ?it/s]"
      ]
     },
     "metadata": {},
     "output_type": "display_data"
    },
    {
     "name": "stdout",
     "output_type": "stream",
     "text": [
      "425\n"
     ]
    },
    {
     "data": {
      "application/vnd.jupyter.widget-view+json": {
       "model_id": "8b9104ca71444169b05b0451ee18b10f",
       "version_major": 2,
       "version_minor": 0
      },
      "text/plain": [
       "  0%|          | 0/3661 [00:00<?, ?it/s]"
      ]
     },
     "metadata": {},
     "output_type": "display_data"
    },
    {
     "name": "stdout",
     "output_type": "stream",
     "text": [
      "607\n"
     ]
    }
   ],
   "source": [
    "groups = []\n",
    "\n",
    "for input_directory in input_directories:\n",
    "    dir_groups = group_similar_images(input_directory, cutoff, window)\n",
    "    print(len(dir_groups))\n",
    "    groups += dir_groups"
   ]
  },
  {
   "cell_type": "code",
   "execution_count": 55,
   "id": "10ea9590-7f6f-4fd2-acea-f2894e7e1815",
   "metadata": {
    "tags": []
   },
   "outputs": [],
   "source": [
    "target_test_count = 250\n",
    "min_triplets_from_clip = 3\n",
    "max_triplets_from_clip = 5\n",
    "output_size = 256\n",
    "min_size = 96"
   ]
  },
  {
   "cell_type": "code",
   "execution_count": 61,
   "id": "551c8750-716b-4d2d-baa2-e2b34615404e",
   "metadata": {
    "tags": []
   },
   "outputs": [],
   "source": [
    "train_output_directory = f\"./temporal_data_extraction/triplets/{base}/Train\"\n",
    "test_output_directory = f\"./temporal_data_extraction/triplets/{base}/Test\"\n",
    "\n",
    "os.makedirs(train_output_directory, exist_ok=False)\n",
    "os.makedirs(test_output_directory, exist_ok=False)"
   ]
  },
  {
   "cell_type": "code",
   "execution_count": 62,
   "id": "a7674681-d93a-4a56-9b93-bc1545a4b39d",
   "metadata": {
    "tags": []
   },
   "outputs": [],
   "source": [
    "lengths = {}\n",
    "min_length = min_triplets_from_clip * 3\n",
    "excluded_count = 0\n",
    "\n",
    "for group in groups:\n",
    "    l = len(group)\n",
    "    \n",
    "    if l < min_length:\n",
    "        excluded_count += l\n",
    "        continue\n",
    "    \n",
    "    if l not in lengths.keys():\n",
    "        lengths[l] = 0\n",
    "    \n",
    "    lengths[l] += 1"
   ]
  },
  {
   "cell_type": "code",
   "execution_count": 63,
   "id": "1a94ede4-be1e-4c21-92e7-cb572e594998",
   "metadata": {
    "tags": []
   },
   "outputs": [
    {
     "data": {
      "image/png": "[encoded data removed]",
      "text/plain": [
       "<Figure size 640x480 with 1 Axes>"
      ]
     },
     "metadata": {},
     "output_type": "display_data"
    }
   ],
   "source": [
    "plt.bar(*zip(*lengths.items()))\n",
    "plt.show()"
   ]
  },
  {
   "cell_type": "code",
   "execution_count": 64,
   "id": "a7981f68-3703-478b-951e-b8b10ce072fb",
   "metadata": {
    "tags": []
   },
   "outputs": [
    {
     "data": {
      "text/plain": [
       "2537"
      ]
     },
     "execution_count": 64,
     "metadata": {},
     "output_type": "execute_result"
    }
   ],
   "source": [
    "excluded_count"
   ]
  },
  {
   "cell_type": "code",
   "execution_count": 65,
   "id": "e4be0a0a-12d4-4c2c-be25-843ce8539e59",
   "metadata": {
    "tags": []
   },
   "outputs": [
    {
     "data": {
      "application/vnd.jupyter.widget-view+json": {
       "model_id": "5d32699c1ccf4e2daee2eb1524c85e16",
       "version_major": 2,
       "version_minor": 0
      },
      "text/plain": [
       "  0%|          | 0/1328 [00:00<?, ?it/s]"
      ]
     },
     "metadata": {},
     "output_type": "display_data"
    }
   ],
   "source": [
    "test_save_prob = target_test_count / excluded_count\n",
    "\n",
    "for group_no, group in enumerate(tqdm(groups)):\n",
    "    if len(group) < min_length:\n",
    "        for i in range(len(group)):\n",
    "            if random.uniform(0, 1) < test_save_prob:\n",
    "                Image.open(group[i]).save(f\"{test_output_directory}/{group_no:05d}_{i:05d}.jpg\")\n",
    "        \n",
    "        continue\n",
    "        \n",
    "    triplet_count = len(group) // 3\n",
    "    selection_count = min(triplet_count, max_triplets_from_clip)\n",
    "    selected_triplets = random.sample(range(triplet_count), k=selection_count)\n",
    "    \n",
    "    for i in selected_triplets:\n",
    "        triplet_image = Image.new(\"RGB\", (3 * output_size, output_size))\n",
    "        \n",
    "        x = Image.open(group[3 * i])\n",
    "        y = Image.open(group[3 * i + 1])\n",
    "        z = Image.open(group[3 * i + 2])\n",
    "        \n",
    "        if x.width < min_size or x.height < min_size:\n",
    "            continue\n",
    "            \n",
    "        if y.width < min_size or y.height < min_size:\n",
    "            continue\n",
    "            \n",
    "        if z.width < min_size or z.height < min_size:\n",
    "            continue\n",
    "        \n",
    "        triplet_image.paste(x.resize((output_size, output_size)), (0, 0))\n",
    "        triplet_image.paste(y.resize((output_size, output_size)), (output_size, 0))\n",
    "        triplet_image.paste(z.resize((output_size, output_size)), (2 * output_size, 0))\n",
    "        \n",
    "        triplet_image.save(f\"{train_output_directory}/{group_no:05d}_{i:05d}.jpg\")"
   ]
  },
  {
   "cell_type": "code",
   "execution_count": 73,
   "id": "7fbe4e97-e7b3-45c9-90ce-bce2356b5d10",
   "metadata": {
    "tags": []
   },
   "outputs": [],
   "source": [
    "target_size = 600\n",
    "input_train_output_directory = f\"./temporal_data_extraction/triplets/{base}/Train\""
   ]
  },
  {
   "cell_type": "code",
   "execution_count": 74,
   "id": "0a6f14f0-7cfa-4c06-886a-bf3236dcdb10",
   "metadata": {
    "tags": []
   },
   "outputs": [],
   "source": [
    "valid_input_files = [file_name for file_name in os.listdir(input_train_output_directory) if file_name.endswith(\".jpg\")]"
   ]
  },
  {
   "cell_type": "code",
   "execution_count": 75,
   "id": "fb104c93-8ca6-4126-93de-b21eb0879f81",
   "metadata": {
    "tags": []
   },
   "outputs": [
    {
     "name": "stdout",
     "output_type": "stream",
     "text": [
      "Deleted 242 files\n"
     ]
    }
   ],
   "source": [
    "if len(valid_input_files) > target_size:\n",
    "    selected_for_delete = random.sample(valid_input_files, k=len(valid_input_files) - target_size)\n",
    "    \n",
    "    for file_name in selected_for_delete:\n",
    "        os.remove(f\"{input_train_output_directory}/{file_name}\")\n",
    "    \n",
    "    print(\"Deleted\", len(selected_for_delete), \"files\")"
   ]
  },
  {
   "cell_type": "code",
   "execution_count": null,
   "id": "b08cf807-fbbf-414b-9699-a9f8aa420ecd",
   "metadata": {},
   "outputs": [],
   "source": []
  }
 ],
 "metadata": {
  "kernelspec": {
   "display_name": "Python 3 (ipykernel)",
   "language": "python",
   "name": "python3"
  },
  "language_info": {
   "codemirror_mode": {
    "name": "ipython",
    "version": 3
   },
   "file_extension": ".py",
   "mimetype": "text/x-python",
   "name": "python",
   "nbconvert_exporter": "python",
   "pygments_lexer": "ipython3",
   "version": "3.10.7"
  }
 },
 "nbformat": 4,
 "nbformat_minor": 5
}
