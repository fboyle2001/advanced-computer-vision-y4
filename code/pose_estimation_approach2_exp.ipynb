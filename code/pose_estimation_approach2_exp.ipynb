{
 "cells": [
  {
   "cell_type": "code",
   "execution_count": 313,
   "id": "b0576b8e-632d-4d12-904d-fffe09d49fc1",
   "metadata": {
    "tags": []
   },
   "outputs": [],
   "source": [
    "import json\n",
    "import cv2\n",
    "import numpy as np\n",
    "\n",
    "from dataclasses import dataclass\n",
    "\n",
    "from PIL import Image\n",
    "from IPython import display\n",
    "\n",
    "import os\n",
    "import shutil\n",
    "\n",
    "from typing import Optional\n",
    "from __future__ import annotations"
   ]
  },
  {
   "cell_type": "code",
   "execution_count": 314,
   "id": "fa620891-d851-4fc0-a7c2-f90fb40a3f81",
   "metadata": {
    "tags": []
   },
   "outputs": [],
   "source": [
    "@dataclass\n",
    "class Joint:\n",
    "    parent: Optional[Joint]\n",
    "    x: float\n",
    "    y: float\n",
    "    confidence: float\n",
    "    \n",
    "    def is_empty(self):\n",
    "        return self.x == 0 and self.y == 0 and self.confidence == 0"
   ]
  },
  {
   "cell_type": "code",
   "execution_count": 315,
   "id": "5056f63c-120e-49a2-a237-a4c0782a861f",
   "metadata": {
    "tags": []
   },
   "outputs": [],
   "source": [
    "joint_colours = np.linspace(0, 179, 26)[:-1]\n",
    "joint_colours = np.array([(round(h), 255, 255) for h in joint_colours]).astype(np.uint8)\n",
    "joint_colours = joint_colours[np.newaxis, ...]\n",
    "joint_colours = cv2.cvtColor(joint_colours, cv2.COLOR_HSV2BGR)\n",
    "joint_colours = joint_colours.squeeze().astype(int)\n",
    "joint_colours = [tuple([int(x) for x in joint_colour]) for joint_colour in joint_colours]"
   ]
  },
  {
   "cell_type": "code",
   "execution_count": 316,
   "id": "77e18194-326e-47ee-8e31-d2f637aa078c",
   "metadata": {
    "tags": []
   },
   "outputs": [],
   "source": [
    "joint_connections = {\n",
    "    \"nose\": None,\n",
    "    \"neck\": \"nose\",\n",
    "    \"right_shoulder\": \"neck\",\n",
    "    \"right_elbow\": \"right_shoulder\",\n",
    "    \"right_wrist\": \"right_elbow\",\n",
    "    \"left_shoulder\": \"neck\",\n",
    "    \"left_elbow\": \"left_shoulder\",\n",
    "    \"left_wrist\": \"left_elbow\",\n",
    "    \"mid_hip\": \"neck\",\n",
    "    \"right_hip\": \"mid_hip\",\n",
    "    \"right_knee\": \"right_hip\",\n",
    "    \"right_ankle\": \"right_knee\",\n",
    "    \"left_hip\": \"mid_hip\",\n",
    "    \"left_knee\": \"left_hip\",\n",
    "    \"left_ankle\": \"left_knee\",\n",
    "    \"right_eye\": \"nose\",\n",
    "    \"left_eye\": \"nose\",\n",
    "    \"right_ear\": \"right_eye\",\n",
    "    \"left_ear\": \"left_eye\",\n",
    "    \"left_big_toe\": \"left_ankle\",\n",
    "    \"left_small_toe\": \"left_big_toe\",\n",
    "    \"left_heel\": \"left_ankle\",\n",
    "    \"right_big_toe\": \"right_ankle\",\n",
    "    \"right_small_toe\": \"right_big_toe\",\n",
    "    \"right_heel\": \"right_ankle\"\n",
    "}"
   ]
  },
  {
   "cell_type": "code",
   "execution_count": 526,
   "id": "1c6da348-44f3-4e85-a08a-f9db3f8eebdd",
   "metadata": {
    "tags": []
   },
   "outputs": [],
   "source": [
    "# https://github.com/CMU-Perceptual-Computing-Lab/openpose/blob/master/doc/02_output.md\n",
    "\n",
    "@dataclass\n",
    "class PoseKeypoints:\n",
    "    nose: Joint\n",
    "    neck: Joint\n",
    "    right_shoulder: Joint\n",
    "    right_elbow: Joint\n",
    "    right_wrist: Joint\n",
    "    left_shoulder: Joint\n",
    "    left_elbow: Joint\n",
    "    left_wrist: Joint\n",
    "    mid_hip: Joint\n",
    "    right_hip: Joint\n",
    "    right_knee: Joint\n",
    "    right_ankle: Joint\n",
    "    left_hip: Joint\n",
    "    left_knee: Joint\n",
    "    left_ankle: Joint\n",
    "    right_eye: Joint\n",
    "    left_eye: Joint\n",
    "    right_ear: Joint\n",
    "    left_ear: Joint\n",
    "    left_big_toe: Joint\n",
    "    left_small_toe: Joint\n",
    "    left_heel: Joint\n",
    "    right_big_toe: Joint\n",
    "    right_small_toe: Joint\n",
    "    right_heel: Joint\n",
    "    \n",
    "    def get_empty_joints(self):\n",
    "        return {joint_name: getattr(self, joint_name) for joint_name in self.__annotations__.keys() if getattr(self, joint_name).is_empty()}\n",
    "    \n",
    "    def overlay_pose(self, frame):\n",
    "        mapping = list(PoseKeypoints.__dict__[\"__annotations__\"].keys())\n",
    "        pose_overlayed_frame = frame.copy()\n",
    "        height, width, channels = pose_overlayed_frame.shape\n",
    "\n",
    "        for i, joint_name in enumerate(self.__annotations__.keys()):\n",
    "            joint = getattr(self, joint_name)\n",
    "\n",
    "            if joint.is_empty(): \n",
    "                continue\n",
    "            \n",
    "            joint_pos = (round(joint.x * width), round(joint.y * height))\n",
    "            cv2.circle(pose_overlayed_frame, joint_pos, radius=1, color=joint_colours[i], thickness=2)\n",
    "            cv2.putText(pose_overlayed_frame, mapping[i], (round(joint.x * width), round(joint.y * (height - 0.02))), cv2.FONT_HERSHEY_SIMPLEX, 0.5, joint_colours[i], 1, cv2.LINE_AA)\n",
    "            \n",
    "            if joint.parent is not None and not joint.parent.is_empty():\n",
    "                parent_pos = (round(joint.parent.x * width), round(joint.parent.y * height))\n",
    "                cv2.line(pose_overlayed_frame, joint_pos, parent_pos, joint_colours[i], thickness=1)\n",
    "        \n",
    "        return pose_overlayed_frame\n",
    "    \n",
    "    def head_visibility_score(self):\n",
    "        # 0 = not visible, 1 = completely visible\n",
    "        parts = {\"nose\", \"left_eye\", \"left_ear\", \"right_eye\", \"right_ear\"}\n",
    "        empty_parts = set(self.get_empty_joints().keys())\n",
    "        visible_parts = parts - empty_parts\n",
    "        return len(visible_parts) / len(parts)\n",
    "    \n",
    "    def torso_arms_visibility_score(self):\n",
    "        # 0 = not visible, 1 = completely visible\n",
    "        parts = {\"neck\", \"left_shoulder\", \"left_elbow\", \"left_wrist\", \"right_shoulder\", \"right_elbow\", \"right_wrist\"}\n",
    "        empty_parts = set(self.get_empty_joints().keys())\n",
    "        visible_parts = parts - empty_parts\n",
    "        return len(visible_parts) / len(parts)\n",
    "    \n",
    "    def hip_visibility_score(self):\n",
    "        # 0 = not visible, 1 = completely visible\n",
    "        parts = {\"mid_hip\", \"left_hip\", \"right_hip\"}\n",
    "        empty_parts = set(self.get_empty_joints().keys())\n",
    "        visible_parts = parts - empty_parts\n",
    "        return len(visible_parts) / len(parts)\n",
    "    \n",
    "    def legs_visibility_score(self):\n",
    "        # 0 = not visible, 1 = completely visible\n",
    "        parts = {\"left_knee\", \"left_ankle\", \"right_knee\", \"right_ankle\"}\n",
    "        empty_parts = set(self.get_empty_joints().keys())\n",
    "        visible_parts = parts - empty_parts\n",
    "        return len(visible_parts) / len(parts)\n",
    "    \n",
    "    def feet_visibility_score(self):\n",
    "        # 0 = not visible, 1 = completely visible\n",
    "        parts = {\"left_ankle\", \"left_heel\", \"left_big_toe\", \"left_small_toe\", \"right_ankle\", \"right_heel\", \"right_big_toe\", \"right_small_toe\"}\n",
    "        empty_parts = set(self.get_empty_joints().keys())\n",
    "        visible_parts = parts - empty_parts\n",
    "        return len(visible_parts) / len(parts)\n",
    "    \n",
    "    def sitting_ratios(self):\n",
    "        left_ratio = None\n",
    "        right_ratio = None\n",
    "        \n",
    "        # to tell if someone is sitting we can look at the ratio of the length of the leg bones\n",
    "        \n",
    "        if not self.right_hip.is_empty() and not self.right_knee.is_empty() and not self.right_ankle.is_empty():\n",
    "            right_thigh_length = np.sqrt((self.right_hip.x - self.right_knee.x) ** 2 + (self.right_hip.y - self.right_knee.y) ** 2)\n",
    "            right_shin_length = np.sqrt((self.right_knee.x - self.right_ankle.x) ** 2 + (self.right_knee.y - self.right_ankle.y) ** 2)\n",
    "            right_ratio = right_thigh_length / (right_shin_length + 1e-7)\n",
    "        \n",
    "        if not self.left_hip.is_empty() and not self.left_knee.is_empty() and not self.left_ankle.is_empty():\n",
    "            left_thigh_length = np.sqrt((self.left_hip.x - self.left_knee.x) ** 2 + (self.left_hip.y - self.left_knee.y) ** 2)\n",
    "            left_shin_length = np.sqrt((self.left_knee.x - self.left_ankle.x) ** 2 + (self.left_knee.y - self.left_ankle.y) ** 2)\n",
    "            left_ratio = left_thigh_length / (left_shin_length + 1e-7)\n",
    "            \n",
    "        return left_ratio, right_ratio\n",
    "    \n",
    "    def classify_general_pose(self):\n",
    "        head_score = self.head_visibility_score()\n",
    "        ta_score = self.torso_arms_visibility_score()\n",
    "        hip_score = self.hip_visibility_score()\n",
    "        legs_score = self.legs_visibility_score()\n",
    "        feet_score = self.feet_visibility_score()\n",
    "        \n",
    "        if head_score >= 0.8 and ta_score <= 0.3 and hip_score + legs_score + feet_score == 0:\n",
    "            return \"Head Only\"\n",
    "        \n",
    "        # hip_score >= 0 redundant\n",
    "        if head_score >= 0.8 and ta_score >= 0.5 and hip_score >= 0 and legs_score + feet_score == 0: \n",
    "            return \"Half Body\"\n",
    "        \n",
    "        # feet_score >= 0 redundant\n",
    "        if head_score >= 0.8 and ta_score >= 0.7 and hip_score >= 0.5 and legs_score >= 0.5 and feet_score >= 0:\n",
    "            return \"Full Body\"\n",
    "        \n",
    "        return \"Unknown\"\n",
    "        \n",
    "    def is_sitting(self):\n",
    "        left, right = self.sitting_ratios()\n",
    "        \n",
    "        if left is None and right is None:\n",
    "            return None\n",
    "        \n",
    "        left_sitting = None\n",
    "        right_sitting = None\n",
    "        \n",
    "        if left is not None:\n",
    "            left_sitting = left < 0.95\n",
    "        \n",
    "        if right is not None:\n",
    "            right_sitting = right < 0.95\n",
    "        \n",
    "        if left_sitting or right_sitting:\n",
    "            return \"Sitting\"\n",
    "        \n",
    "        return \"Standing\"\n",
    "    \n",
    "    def classify(self):\n",
    "        general_pose = self.classify_general_pose()\n",
    "        \n",
    "        if general_pose != \"Full Body\":\n",
    "            return general_pose\n",
    "        \n",
    "        if self.is_sitting() is None:\n",
    "            return \"Full Body None\"\n",
    "        \n",
    "        if self.is_sitting().startswith(\"Sitting\"):\n",
    "            return \"Full Body Sitting\"\n",
    "        \n",
    "        if self.is_sitting().startswith(\"Standing\"):\n",
    "            return \"Full Body Standing\"\n",
    "        \n",
    "        return \"Full Body Inconclusive\"\n",
    "    \n",
    "    @staticmethod\n",
    "    def load_keypoints(raw_kps):\n",
    "        mapping = list(PoseKeypoints.__dict__[\"__annotations__\"].keys())\n",
    "        points_as_dict = {}\n",
    "        \n",
    "        for i, part in enumerate(mapping):\n",
    "            if joint_connections[part] is None:\n",
    "                points_as_dict[part] = Joint(None, raw_kps[3 * i], raw_kps[3 * i + 1], raw_kps[3 * i + 2])\n",
    "            else:\n",
    "                points_as_dict[part] = Joint(points_as_dict[joint_connections[part]], raw_kps[3 * i], raw_kps[3 * i + 1], raw_kps[3 * i + 2])\n",
    "        \n",
    "        return PoseKeypoints(**points_as_dict)"
   ]
  },
  {
   "cell_type": "code",
   "execution_count": 527,
   "id": "49581713-a9f6-4bab-bccd-5dfc3cf87003",
   "metadata": {
    "tags": []
   },
   "outputs": [],
   "source": [
    "item_name = \"Segmented_Train_Game_02_00083_2\"\n",
    "frame_loc = f\"./output/segmented/Train/Game/{item_name}.jpg\"\n",
    "pose_loc = f\"./output/segmented/Train/Game/openpose_out_normalised/{item_name}_keypoints.json\""
   ]
  },
  {
   "cell_type": "code",
   "execution_count": 528,
   "id": "7c310fea-caca-4b81-a3f7-b6bd6335cc04",
   "metadata": {
    "tags": []
   },
   "outputs": [
    {
     "data": {
      "image/png": "[encoded data removed]",
      "text/plain": [
       "<PIL.Image.Image image mode=RGB size=59x166>"
      ]
     },
     "metadata": {},
     "output_type": "display_data"
    }
   ],
   "source": [
    "frame = cv2.imread(frame_loc)\n",
    "\n",
    "d = display.display(None, display_id=True)\n",
    "frame_disp = cv2.cvtColor(frame, cv2.COLOR_BGR2RGB) # Convert from CV2's BGR to RGB\n",
    "d.update(Image.fromarray(frame_disp))"
   ]
  },
  {
   "cell_type": "code",
   "execution_count": 529,
   "id": "b6a8c907-ca76-4b94-a745-0cbfa78b2a01",
   "metadata": {
    "tags": []
   },
   "outputs": [],
   "source": [
    "with open(pose_loc, \"r\") as fp:\n",
    "    raw_pose_data = json.load(fp)\n",
    "\n",
    "pose = PoseKeypoints.load_keypoints(raw_pose_data[\"people\"][0][\"pose_keypoints_2d\"])"
   ]
  },
  {
   "cell_type": "code",
   "execution_count": 530,
   "id": "199ac75d-1418-4947-8c2f-cb213e3ec75b",
   "metadata": {
    "tags": []
   },
   "outputs": [
    {
     "data": {
      "image/png": "[encoded data removed]",
      "text/plain": [
       "<PIL.Image.Image image mode=RGB size=59x166>"
      ]
     },
     "metadata": {},
     "output_type": "display_data"
    }
   ],
   "source": [
    "overlayed_frame = pose.overlay_pose(frame.copy())\n",
    "\n",
    "d = display.display(None, display_id=True)\n",
    "overlayed_frame_disp = cv2.cvtColor(overlayed_frame, cv2.COLOR_BGR2RGB) # Convert from CV2's BGR to RGB\n",
    "d.update(Image.fromarray(overlayed_frame_disp))"
   ]
  },
  {
   "cell_type": "code",
   "execution_count": 531,
   "id": "1fdde7ed-0c92-4f44-a1bf-5c140613ec2e",
   "metadata": {
    "tags": []
   },
   "outputs": [
    {
     "data": {
      "text/plain": [
       "1.0"
      ]
     },
     "execution_count": 531,
     "metadata": {},
     "output_type": "execute_result"
    }
   ],
   "source": [
    "pose.head_visibility_score()"
   ]
  },
  {
   "cell_type": "code",
   "execution_count": 532,
   "id": "bd224cd7-e211-45dd-ab98-15adebf252d0",
   "metadata": {
    "tags": []
   },
   "outputs": [
    {
     "data": {
      "text/plain": [
       "1.0"
      ]
     },
     "execution_count": 532,
     "metadata": {},
     "output_type": "execute_result"
    }
   ],
   "source": [
    "pose.torso_arms_visibility_score()"
   ]
  },
  {
   "cell_type": "code",
   "execution_count": 533,
   "id": "2e33d076-02e0-4c01-80ef-e5f0e718c842",
   "metadata": {},
   "outputs": [
    {
     "data": {
      "text/plain": [
       "1.0"
      ]
     },
     "execution_count": 533,
     "metadata": {},
     "output_type": "execute_result"
    }
   ],
   "source": [
    "pose.hip_visibility_score()"
   ]
  },
  {
   "cell_type": "code",
   "execution_count": 534,
   "id": "f97da044-8450-4a70-aa2b-bc11ade7b182",
   "metadata": {
    "tags": []
   },
   "outputs": [
    {
     "data": {
      "text/plain": [
       "1.0"
      ]
     },
     "execution_count": 534,
     "metadata": {},
     "output_type": "execute_result"
    }
   ],
   "source": [
    "pose.legs_visibility_score()"
   ]
  },
  {
   "cell_type": "code",
   "execution_count": 535,
   "id": "e3d0b7da-cfd8-4bcb-b4f1-87f7ebb77ce5",
   "metadata": {
    "tags": []
   },
   "outputs": [
    {
     "data": {
      "text/plain": [
       "1.0"
      ]
     },
     "execution_count": 535,
     "metadata": {},
     "output_type": "execute_result"
    }
   ],
   "source": [
    "pose.feet_visibility_score()"
   ]
  },
  {
   "cell_type": "code",
   "execution_count": 536,
   "id": "4c38fd3f-89fe-445c-9818-8a6e4ec33b08",
   "metadata": {
    "tags": []
   },
   "outputs": [
    {
     "data": {
      "text/plain": [
       "(0.9859609506163055, 0.9903765011469942)"
      ]
     },
     "execution_count": 536,
     "metadata": {},
     "output_type": "execute_result"
    }
   ],
   "source": [
    "pose.sitting_ratios()"
   ]
  },
  {
   "cell_type": "code",
   "execution_count": 537,
   "id": "1ec3bc73-d4f7-4534-b923-9abed39c60c6",
   "metadata": {
    "tags": []
   },
   "outputs": [
    {
     "data": {
      "text/plain": [
       "'Full Body'"
      ]
     },
     "execution_count": 537,
     "metadata": {},
     "output_type": "execute_result"
    }
   ],
   "source": [
    "pose.classify_general_pose()"
   ]
  },
  {
   "cell_type": "code",
   "execution_count": 538,
   "id": "97961b72-ec0b-48d8-bd72-d2113df617ce",
   "metadata": {
    "tags": []
   },
   "outputs": [
    {
     "data": {
      "text/plain": [
       "'Standing'"
      ]
     },
     "execution_count": 538,
     "metadata": {},
     "output_type": "execute_result"
    }
   ],
   "source": [
    "pose.is_sitting()"
   ]
  },
  {
   "cell_type": "code",
   "execution_count": 539,
   "id": "5b5738ec-e3f0-4021-abea-411b5a8aaf17",
   "metadata": {
    "tags": []
   },
   "outputs": [
    {
     "data": {
      "text/plain": [
       "'Full Body Standing'"
      ]
     },
     "execution_count": 539,
     "metadata": {},
     "output_type": "execute_result"
    }
   ],
   "source": [
    "pose.classify()"
   ]
  },
  {
   "cell_type": "code",
   "execution_count": null,
   "id": "f020ccd4-f161-44eb-8a88-0c2ddd83e3de",
   "metadata": {},
   "outputs": [],
   "source": []
  }
 ],
 "metadata": {
  "kernelspec": {
   "display_name": "Python 3 (ipykernel)",
   "language": "python",
   "name": "python3"
  },
  "language_info": {
   "codemirror_mode": {
    "name": "ipython",
    "version": 3
   },
   "file_extension": ".py",
   "mimetype": "text/x-python",
   "name": "python",
   "nbconvert_exporter": "python",
   "pygments_lexer": "ipython3",
   "version": "3.10.7"
  }
 },
 "nbformat": 4,
 "nbformat_minor": 5
}
