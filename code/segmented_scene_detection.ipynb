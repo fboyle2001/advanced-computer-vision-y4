{
 "cells": [
  {
   "cell_type": "code",
   "execution_count": 1,
   "id": "3d3c2240-131f-4c41-a2da-1f2d16fd13e0",
   "metadata": {
    "tags": []
   },
   "outputs": [],
   "source": [
    "import random\n",
    "import time\n",
    "import os\n",
    "\n",
    "import cv2\n",
    "import numpy as np\n",
    "\n",
    "import torch\n",
    "import torchvision\n",
    "from PIL import Image, ImageFilter\n",
    "from IPython import display\n",
    "\n",
    "import torchvision.models\n",
    "from torchvision.transforms import transforms\n",
    "\n",
    "from tqdm.notebook import tqdm\n",
    "\n",
    "import matplotlib.pyplot as plt\n",
    "\n",
    "import imagehash"
   ]
  },
  {
   "cell_type": "code",
   "execution_count": 5,
   "id": "b8597f7d-eac3-4638-ae2b-d73231589247",
   "metadata": {
    "tags": []
   },
   "outputs": [],
   "source": [
    "def __group_similar_images(ordered_dir, cutoff):\n",
    "    image_locs = [f\"{ordered_dir}/{file_name}\" for file_name in os.listdir(ordered_dir) if file_name.endswith(\".jpg\")]\n",
    "    groups = [[image_locs[0]]]\n",
    "    last_hash = imagehash.average_hash(Image.open(image_locs[0]))\n",
    "    \n",
    "    for image_loc in tqdm(image_locs):\n",
    "        img_hash = imagehash.average_hash(Image.open(image_loc))\n",
    "        diff = img_hash - last_hash\n",
    "        \n",
    "        if diff <= cutoff:\n",
    "            groups[-1].append(image_loc)\n",
    "        else:\n",
    "            groups.append([image_loc])\n",
    "            \n",
    "        last_hash = img_hash\n",
    "    \n",
    "    return groups"
   ]
  },
  {
   "cell_type": "code",
   "execution_count": 26,
   "id": "8061f66c-4dd5-4ab8-a5dd-5ba3ee7da73b",
   "metadata": {
    "tags": []
   },
   "outputs": [],
   "source": [
    "def group_similar_images(ordered_dir, cutoff):\n",
    "    image_locs = [f\"{ordered_dir}/{file_name}\" for file_name in os.listdir(ordered_dir) if file_name.endswith(\".jpg\")]\n",
    "    groups = [[image_locs[0]]]\n",
    "    \n",
    "    for image_loc in tqdm(image_locs):\n",
    "        img_hash = imagehash.average_hash(Image.open(image_loc))\n",
    "        \n",
    "        closest_group_idx = -1\n",
    "        closest_group_diff = 65\n",
    "        \n",
    "        for offset, group in enumerate(groups[-5:][::-1]):\n",
    "            group_idx = len(groups) - offset - 1\n",
    "            last_hash = imagehash.average_hash(Image.open(group[-1]))\n",
    "            diff = img_hash - last_hash\n",
    "            \n",
    "            if diff < closest_group_diff:\n",
    "                closest_group_idx = group_idx\n",
    "                closest_group_diff = diff\n",
    "        \n",
    "        diff = img_hash - last_hash\n",
    "        \n",
    "        if closest_group_diff <= cutoff:\n",
    "            groups[closest_group_idx].append(image_loc)\n",
    "        else:\n",
    "            groups.append([image_loc])\n",
    "    \n",
    "    return groups"
   ]
  },
  {
   "cell_type": "code",
   "execution_count": 55,
   "id": "815a8cf2-b391-4c9d-b54a-1e88c7a659ce",
   "metadata": {
    "tags": []
   },
   "outputs": [],
   "source": [
    "domain_dir = \"pose_classified_movie\"\n",
    "cutoff = 8\n",
    "\n",
    "input_directories = [\n",
    "    f\"./output/{domain_dir}/Full Body Sitting\",\n",
    "    f\"./output/{domain_dir}/Full Body Standing\",\n",
    "    f\"./output/{domain_dir}/Half Body\",\n",
    "    f\"./output/{domain_dir}/Head Only\"\n",
    "]\n",
    "\n",
    "output_directory = f\"./output/{domain_dir}_combined_triplets_fair\"\n",
    "additional_directory = f\"./output/{domain_dir}_recycle_test_fair\"\n",
    "additional_desired_count = 200\n",
    "output_size = 256\n",
    "min_triplets_from_clip = 2\n",
    "max_triplets_from_clip = 5\n",
    "previous_matching_window = 5\n",
    "\n",
    "os.makedirs(output_directory, exist_ok=False)\n",
    "os.makedirs(additional_directory, exist_ok=False)"
   ]
  },
  {
   "cell_type": "code",
   "execution_count": 36,
   "id": "0c667082-0972-45e1-b77e-ef6cd66ff52f",
   "metadata": {
    "tags": []
   },
   "outputs": [
    {
     "data": {
      "application/vnd.jupyter.widget-view+json": {
       "model_id": "ae3250b6083049f1bda5e472ed855f5a",
       "version_major": 2,
       "version_minor": 0
      },
      "text/plain": [
       "  0%|          | 0/21 [00:00<?, ?it/s]"
      ]
     },
     "metadata": {},
     "output_type": "display_data"
    },
    {
     "name": "stdout",
     "output_type": "stream",
     "text": [
      "20\n"
     ]
    },
    {
     "data": {
      "application/vnd.jupyter.widget-view+json": {
       "model_id": "e36200778573467fb2a4f0f06d78c6cc",
       "version_major": 2,
       "version_minor": 0
      },
      "text/plain": [
       "  0%|          | 0/509 [00:00<?, ?it/s]"
      ]
     },
     "metadata": {},
     "output_type": "display_data"
    },
    {
     "name": "stdout",
     "output_type": "stream",
     "text": [
      "237\n"
     ]
    },
    {
     "data": {
      "application/vnd.jupyter.widget-view+json": {
       "model_id": "fb4d6b991c5a4f0e987bc36fdcdf9bdb",
       "version_major": 2,
       "version_minor": 0
      },
      "text/plain": [
       "  0%|          | 0/1763 [00:00<?, ?it/s]"
      ]
     },
     "metadata": {},
     "output_type": "display_data"
    },
    {
     "name": "stdout",
     "output_type": "stream",
     "text": [
      "304\n"
     ]
    },
    {
     "data": {
      "application/vnd.jupyter.widget-view+json": {
       "model_id": "b061a302290a42b5b262f88a7030ae41",
       "version_major": 2,
       "version_minor": 0
      },
      "text/plain": [
       "  0%|          | 0/1361 [00:00<?, ?it/s]"
      ]
     },
     "metadata": {},
     "output_type": "display_data"
    },
    {
     "name": "stdout",
     "output_type": "stream",
     "text": [
      "378\n"
     ]
    }
   ],
   "source": [
    "groups = []\n",
    "\n",
    "for input_directory in input_directories:\n",
    "    dir_groups = group_similar_images(input_directory, cutoff)\n",
    "    print(len(dir_groups))\n",
    "    groups += dir_groups"
   ]
  },
  {
   "cell_type": "code",
   "execution_count": 56,
   "id": "c9130fa1-17d6-4046-8a93-512744e72238",
   "metadata": {
    "tags": []
   },
   "outputs": [
    {
     "data": {
      "text/plain": [
       "{7: 11,\n",
       " 8: 8,\n",
       " 6: 17,\n",
       " 12: 5,\n",
       " 22: 2,\n",
       " 13: 2,\n",
       " 29: 1,\n",
       " 38: 1,\n",
       " 28: 1,\n",
       " 15: 1,\n",
       " 10: 4,\n",
       " 9: 14,\n",
       " 11: 11,\n",
       " 137: 1,\n",
       " 14: 2,\n",
       " 60: 1,\n",
       " 53: 1,\n",
       " 24: 4,\n",
       " 40: 1,\n",
       " 83: 1,\n",
       " 20: 2,\n",
       " 254: 1,\n",
       " 21: 1,\n",
       " 163: 1,\n",
       " 36: 1,\n",
       " 32: 1,\n",
       " 49: 1,\n",
       " 16: 3,\n",
       " 31: 1,\n",
       " 18: 2,\n",
       " 71: 1,\n",
       " 23: 1,\n",
       " 33: 1,\n",
       " 17: 1,\n",
       " 37: 1,\n",
       " 26: 1,\n",
       " 67: 1,\n",
       " 103: 1}"
      ]
     },
     "execution_count": 56,
     "metadata": {},
     "output_type": "execute_result"
    }
   ],
   "source": [
    "lengths = {}\n",
    "min_length = min_triplets_from_clip * 3\n",
    "excluded_count = 0\n",
    "\n",
    "for group in groups:\n",
    "    l = len(group)\n",
    "    \n",
    "    if l < min_length:\n",
    "        excluded_count += l\n",
    "        continue\n",
    "    \n",
    "    if l not in lengths.keys():\n",
    "        lengths[l] = 0\n",
    "    \n",
    "    lengths[l] += 1\n",
    "    \n",
    "lengths"
   ]
  },
  {
   "cell_type": "code",
   "execution_count": 57,
   "id": "69b51396-2eed-4205-a4ce-5f3a61d74f3b",
   "metadata": {},
   "outputs": [
    {
     "data": {
      "image/png": "[encoded data removed]",
      "text/plain": [
       "<Figure size 640x480 with 1 Axes>"
      ]
     },
     "metadata": {},
     "output_type": "display_data"
    }
   ],
   "source": [
    "plt.bar(*zip(*lengths.items()))\n",
    "plt.show()"
   ]
  },
  {
   "cell_type": "code",
   "execution_count": 58,
   "id": "f94f54a9-37ef-413b-9947-0ce4eb00d523",
   "metadata": {
    "tags": []
   },
   "outputs": [
    {
     "data": {
      "text/plain": [
       "1304"
      ]
     },
     "execution_count": 58,
     "metadata": {},
     "output_type": "execute_result"
    }
   ],
   "source": [
    "excluded_count"
   ]
  },
  {
   "cell_type": "code",
   "execution_count": 59,
   "id": "59e41a13-817f-4aa7-8f0e-b98ec3ef8b81",
   "metadata": {
    "tags": []
   },
   "outputs": [
    {
     "data": {
      "application/vnd.jupyter.widget-view+json": {
       "model_id": "0e4433d87ab743f682fdec3295397b16",
       "version_major": 2,
       "version_minor": 0
      },
      "text/plain": [
       "  0%|          | 0/939 [00:00<?, ?it/s]"
      ]
     },
     "metadata": {},
     "output_type": "display_data"
    }
   ],
   "source": [
    "test_save_prob = additional_desired_count / excluded_count\n",
    "\n",
    "for group_no, group in enumerate(tqdm(groups)):\n",
    "    if len(group) < min_length:\n",
    "        for i in range(len(group)):\n",
    "            if random.uniform(0, 1) < test_save_prob:\n",
    "                Image.open(group[i]).save(f\"{additional_directory}/{group_no:04d}_{i:04d}.jpg\")\n",
    "        \n",
    "        continue\n",
    "        \n",
    "    triplet_count = len(group) // 3\n",
    "    selection_count = min(triplet_count, max_triplets_from_clip)\n",
    "    selected_triplets = random.sample(range(triplet_count), k=selection_count)\n",
    "    \n",
    "    for i in selected_triplets:\n",
    "        triplet_image = Image.new(\"RGB\", (3 * output_size, output_size))\n",
    "        \n",
    "        triplet_image.paste(Image.open(group[3 * i]).resize((output_size, output_size)), (0, 0))\n",
    "        triplet_image.paste(Image.open(group[3 * i + 1]).resize((output_size, output_size)), (output_size, 0))\n",
    "        triplet_image.paste(Image.open(group[3 * i + 2]).resize((output_size, output_size)), (2 * output_size, 0))\n",
    "        \n",
    "        triplet_image.save(f\"{output_directory}/{group_no:04d}_{i:04d}.jpg\")"
   ]
  },
  {
   "cell_type": "code",
   "execution_count": null,
   "id": "47e27559-0d5d-4566-a684-5113bc24883f",
   "metadata": {},
   "outputs": [],
   "source": []
  }
 ],
 "metadata": {
  "kernelspec": {
   "display_name": "Python 3 (ipykernel)",
   "language": "python",
   "name": "python3"
  },
  "language_info": {
   "codemirror_mode": {
    "name": "ipython",
    "version": 3
   },
   "file_extension": ".py",
   "mimetype": "text/x-python",
   "name": "python",
   "nbconvert_exporter": "python",
   "pygments_lexer": "ipython3",
   "version": "3.10.7"
  }
 },
 "nbformat": 4,
 "nbformat_minor": 5
}
