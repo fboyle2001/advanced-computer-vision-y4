{
 "cells": [
  {
   "cell_type": "code",
   "execution_count": 6,
   "id": "bed8821b-67d6-4352-bb1a-5b99e9a56c28",
   "metadata": {
    "tags": []
   },
   "outputs": [],
   "source": [
    "import random\n",
    "import time\n",
    "import os\n",
    "import shutil\n",
    "import json\n",
    "\n",
    "from tqdm import tqdm\n",
    "\n",
    "import cv2\n",
    "import numpy as np\n",
    "\n",
    "import torch\n",
    "import torchvision\n",
    "import torch.nn as nn\n",
    "import torch.optim as optim\n",
    "\n",
    "from PIL import Image\n",
    "from IPython import display\n",
    "\n",
    "from torchvision.transforms import transforms\n",
    "import torch.utils.data\n",
    "from torchsummary import summary\n",
    "\n",
    "import matplotlib.pyplot as plt\n",
    "import itertools\n",
    "\n",
    "from pytorchCycleGANandpix2pix.models import networks as offnets\n",
    "from pytorchCycleGANandpix2pix.util.image_pool import ImagePool\n",
    "from pytorchCycleGANandpix2pix.util.util import tensor2im\n",
    "\n",
    "import cyclegan_models\n",
    "\n",
    "import pandas as pd\n",
    "import seaborn as sns"
   ]
  },
  {
   "cell_type": "code",
   "execution_count": 2,
   "id": "e2ebcc8f-cfb0-4b34-9034-4decee4e33e3",
   "metadata": {
    "tags": []
   },
   "outputs": [],
   "source": [
    "domain_folders = [\"./output/pose_classified_game\", \"./output/pose_classified_movie\"]\n",
    "class_folders = [\"Full Body Sitting\", \"Full Body Standing\", \"Half Body\", \"Head Only\", \"Other\"]\n",
    "img_file_ext = \".jpg\""
   ]
  },
  {
   "cell_type": "code",
   "execution_count": 3,
   "id": "a391ac33-5b2a-4a84-8706-04e9c56e5832",
   "metadata": {
    "tags": []
   },
   "outputs": [],
   "source": [
    "def get_class_images(domain_folder, class_folders):\n",
    "    images = {}\n",
    "    total = 0\n",
    "    \n",
    "    for class_folder in class_folders:\n",
    "        files = os.listdir(f\"{domain_folder}/{class_folder}\")\n",
    "        image_files = [x for x in files if x.endswith(img_file_ext)]\n",
    "        images[class_folder] = image_files\n",
    "        total += len(image_files)\n",
    "        \n",
    "    return images, total"
   ]
  },
  {
   "cell_type": "code",
   "execution_count": 4,
   "id": "8aa069d1-b815-48ad-a02c-fc242b6e4ac4",
   "metadata": {
    "tags": []
   },
   "outputs": [],
   "source": [
    "domain_X_imgs, domain_X_total = get_class_images(domain_folders[0], class_folders)\n",
    "domain_X_dist = {k: len(domain_X_imgs[k]) / domain_X_total for k in domain_X_imgs.keys()}"
   ]
  },
  {
   "cell_type": "code",
   "execution_count": 5,
   "id": "e025f320-aa06-4e34-a73b-d18069338455",
   "metadata": {
    "tags": []
   },
   "outputs": [],
   "source": [
    "domain_Y_imgs, domain_Y_total = get_class_images(domain_folders[1], class_folders)\n",
    "domain_Y_dist = {k: len(domain_Y_imgs[k]) / domain_Y_total for k in domain_Y_imgs.keys()}"
   ]
  },
  {
   "cell_type": "code",
   "execution_count": 8,
   "id": "6ad0ff14-cf53-4b49-beb4-311f19545c1b",
   "metadata": {
    "tags": []
   },
   "outputs": [],
   "source": [
    "def create_metadata_df(domain_folder, domain_imgs):\n",
    "    rows = []\n",
    "    \n",
    "    for class_name in domain_imgs.keys():\n",
    "        for image_name in domain_imgs[class_name]:\n",
    "            row = {\n",
    "                \"file\": image_name,\n",
    "                \"pose\": class_name\n",
    "            }\n",
    "            \n",
    "            original_loc = f\"{domain_folder}/{class_name}/{image_name}\"\n",
    "            image = Image.open(original_loc)\n",
    "            \n",
    "            width, height = image.width, image.height\n",
    "            \n",
    "            row[\"width\"] = width\n",
    "            row[\"height\"] = height\n",
    "            \n",
    "            rows.append(row)\n",
    "    \n",
    "    return pd.DataFrame(rows)"
   ]
  },
  {
   "cell_type": "code",
   "execution_count": 9,
   "id": "9d910d17-caf3-488a-83a2-263782e65292",
   "metadata": {
    "tags": []
   },
   "outputs": [],
   "source": [
    "domain_X_metadata = create_metadata_df(domain_folders[0], domain_X_imgs)"
   ]
  },
  {
   "cell_type": "code",
   "execution_count": 23,
   "id": "00f3b94c-e705-4714-a1f7-214967fa5bc1",
   "metadata": {
    "tags": []
   },
   "outputs": [],
   "source": [
    "domain_Y_metadata = create_metadata_df(domain_folders[1], domain_Y_imgs)"
   ]
  },
  {
   "cell_type": "code",
   "execution_count": 24,
   "id": "8e11647e-7336-4dc1-81d6-1b24dd149289",
   "metadata": {
    "tags": []
   },
   "outputs": [
    {
     "data": {
      "text/html": [
       "<div>\n",
       "<style scoped>\n",
       "    .dataframe tbody tr th:only-of-type {\n",
       "        vertical-align: middle;\n",
       "    }\n",
       "\n",
       "    .dataframe tbody tr th {\n",
       "        vertical-align: top;\n",
       "    }\n",
       "\n",
       "    .dataframe thead th {\n",
       "        text-align: right;\n",
       "    }\n",
       "</style>\n",
       "<table border=\"1\" class=\"dataframe\">\n",
       "  <thead>\n",
       "    <tr style=\"text-align: right;\">\n",
       "      <th></th>\n",
       "      <th>file</th>\n",
       "      <th>pose</th>\n",
       "      <th>width</th>\n",
       "      <th>height</th>\n",
       "    </tr>\n",
       "  </thead>\n",
       "  <tbody>\n",
       "    <tr>\n",
       "      <th>0</th>\n",
       "      <td>Segmented_Train_Game_01_00004_1.jpg</td>\n",
       "      <td>Full Body Sitting</td>\n",
       "      <td>515</td>\n",
       "      <td>667</td>\n",
       "    </tr>\n",
       "    <tr>\n",
       "      <th>1</th>\n",
       "      <td>Segmented_Train_Game_01_00005_1.jpg</td>\n",
       "      <td>Full Body Sitting</td>\n",
       "      <td>515</td>\n",
       "      <td>667</td>\n",
       "    </tr>\n",
       "    <tr>\n",
       "      <th>2</th>\n",
       "      <td>Segmented_Train_Game_01_00007_1.jpg</td>\n",
       "      <td>Full Body Sitting</td>\n",
       "      <td>503</td>\n",
       "      <td>664</td>\n",
       "    </tr>\n",
       "    <tr>\n",
       "      <th>3</th>\n",
       "      <td>Segmented_Train_Game_01_00120_0.jpg</td>\n",
       "      <td>Full Body Sitting</td>\n",
       "      <td>355</td>\n",
       "      <td>659</td>\n",
       "    </tr>\n",
       "    <tr>\n",
       "      <th>4</th>\n",
       "      <td>Segmented_Train_Game_01_00121_0.jpg</td>\n",
       "      <td>Full Body Sitting</td>\n",
       "      <td>355</td>\n",
       "      <td>661</td>\n",
       "    </tr>\n",
       "    <tr>\n",
       "      <th>...</th>\n",
       "      <td>...</td>\n",
       "      <td>...</td>\n",
       "      <td>...</td>\n",
       "      <td>...</td>\n",
       "    </tr>\n",
       "    <tr>\n",
       "      <th>8651</th>\n",
       "      <td>Segmented_Train_Game_10_00394_2.jpg</td>\n",
       "      <td>Other</td>\n",
       "      <td>463</td>\n",
       "      <td>657</td>\n",
       "    </tr>\n",
       "    <tr>\n",
       "      <th>8652</th>\n",
       "      <td>Segmented_Train_Game_10_00395_2.jpg</td>\n",
       "      <td>Other</td>\n",
       "      <td>475</td>\n",
       "      <td>654</td>\n",
       "    </tr>\n",
       "    <tr>\n",
       "      <th>8653</th>\n",
       "      <td>Segmented_Train_Game_10_00396_0.jpg</td>\n",
       "      <td>Other</td>\n",
       "      <td>265</td>\n",
       "      <td>551</td>\n",
       "    </tr>\n",
       "    <tr>\n",
       "      <th>8654</th>\n",
       "      <td>Segmented_Train_Game_10_00397_0.jpg</td>\n",
       "      <td>Other</td>\n",
       "      <td>255</td>\n",
       "      <td>542</td>\n",
       "    </tr>\n",
       "    <tr>\n",
       "      <th>8655</th>\n",
       "      <td>Segmented_Train_Game_10_00400_2.jpg</td>\n",
       "      <td>Other</td>\n",
       "      <td>456</td>\n",
       "      <td>579</td>\n",
       "    </tr>\n",
       "  </tbody>\n",
       "</table>\n",
       "<p>8656 rows × 4 columns</p>\n",
       "</div>"
      ],
      "text/plain": [
       "                                     file               pose  width  height\n",
       "0     Segmented_Train_Game_01_00004_1.jpg  Full Body Sitting    515     667\n",
       "1     Segmented_Train_Game_01_00005_1.jpg  Full Body Sitting    515     667\n",
       "2     Segmented_Train_Game_01_00007_1.jpg  Full Body Sitting    503     664\n",
       "3     Segmented_Train_Game_01_00120_0.jpg  Full Body Sitting    355     659\n",
       "4     Segmented_Train_Game_01_00121_0.jpg  Full Body Sitting    355     661\n",
       "...                                   ...                ...    ...     ...\n",
       "8651  Segmented_Train_Game_10_00394_2.jpg              Other    463     657\n",
       "8652  Segmented_Train_Game_10_00395_2.jpg              Other    475     654\n",
       "8653  Segmented_Train_Game_10_00396_0.jpg              Other    265     551\n",
       "8654  Segmented_Train_Game_10_00397_0.jpg              Other    255     542\n",
       "8655  Segmented_Train_Game_10_00400_2.jpg              Other    456     579\n",
       "\n",
       "[8656 rows x 4 columns]"
      ]
     },
     "execution_count": 24,
     "metadata": {},
     "output_type": "execute_result"
    }
   ],
   "source": [
    "domain_X_metadata"
   ]
  },
  {
   "cell_type": "code",
   "execution_count": 25,
   "id": "53e0d01f-d567-4275-beee-f90edfafa500",
   "metadata": {
    "tags": []
   },
   "outputs": [
    {
     "data": {
      "text/html": [
       "<div>\n",
       "<style scoped>\n",
       "    .dataframe tbody tr th:only-of-type {\n",
       "        vertical-align: middle;\n",
       "    }\n",
       "\n",
       "    .dataframe tbody tr th {\n",
       "        vertical-align: top;\n",
       "    }\n",
       "\n",
       "    .dataframe thead th {\n",
       "        text-align: right;\n",
       "    }\n",
       "</style>\n",
       "<table border=\"1\" class=\"dataframe\">\n",
       "  <thead>\n",
       "    <tr style=\"text-align: right;\">\n",
       "      <th></th>\n",
       "      <th>file</th>\n",
       "      <th>pose</th>\n",
       "      <th>width</th>\n",
       "      <th>height</th>\n",
       "    </tr>\n",
       "  </thead>\n",
       "  <tbody>\n",
       "    <tr>\n",
       "      <th>0</th>\n",
       "      <td>Segmented_Train_Movie_02_00003_0.jpg</td>\n",
       "      <td>Full Body Sitting</td>\n",
       "      <td>119</td>\n",
       "      <td>303</td>\n",
       "    </tr>\n",
       "    <tr>\n",
       "      <th>1</th>\n",
       "      <td>Segmented_Train_Movie_02_00015_3.jpg</td>\n",
       "      <td>Full Body Sitting</td>\n",
       "      <td>121</td>\n",
       "      <td>285</td>\n",
       "    </tr>\n",
       "    <tr>\n",
       "      <th>2</th>\n",
       "      <td>Segmented_Train_Movie_02_00526_2.jpg</td>\n",
       "      <td>Full Body Sitting</td>\n",
       "      <td>300</td>\n",
       "      <td>332</td>\n",
       "    </tr>\n",
       "    <tr>\n",
       "      <th>3</th>\n",
       "      <td>Segmented_Train_Movie_02_00556_3.jpg</td>\n",
       "      <td>Full Body Sitting</td>\n",
       "      <td>21</td>\n",
       "      <td>84</td>\n",
       "    </tr>\n",
       "    <tr>\n",
       "      <th>4</th>\n",
       "      <td>Segmented_Train_Movie_02_00560_2.jpg</td>\n",
       "      <td>Full Body Sitting</td>\n",
       "      <td>36</td>\n",
       "      <td>89</td>\n",
       "    </tr>\n",
       "    <tr>\n",
       "      <th>...</th>\n",
       "      <td>...</td>\n",
       "      <td>...</td>\n",
       "      <td>...</td>\n",
       "      <td>...</td>\n",
       "    </tr>\n",
       "    <tr>\n",
       "      <th>3952</th>\n",
       "      <td>Segmented_Train_Movie_03_02255_1.jpg</td>\n",
       "      <td>Other</td>\n",
       "      <td>35</td>\n",
       "      <td>105</td>\n",
       "    </tr>\n",
       "    <tr>\n",
       "      <th>3953</th>\n",
       "      <td>Segmented_Train_Movie_03_02256_1.jpg</td>\n",
       "      <td>Other</td>\n",
       "      <td>36</td>\n",
       "      <td>106</td>\n",
       "    </tr>\n",
       "    <tr>\n",
       "      <th>3954</th>\n",
       "      <td>Segmented_Train_Movie_03_02257_1.jpg</td>\n",
       "      <td>Other</td>\n",
       "      <td>31</td>\n",
       "      <td>79</td>\n",
       "    </tr>\n",
       "    <tr>\n",
       "      <th>3955</th>\n",
       "      <td>Segmented_Train_Movie_03_02264_1.jpg</td>\n",
       "      <td>Other</td>\n",
       "      <td>35</td>\n",
       "      <td>56</td>\n",
       "    </tr>\n",
       "    <tr>\n",
       "      <th>3956</th>\n",
       "      <td>Segmented_Train_Movie_03_02341_0.jpg</td>\n",
       "      <td>Other</td>\n",
       "      <td>202</td>\n",
       "      <td>280</td>\n",
       "    </tr>\n",
       "  </tbody>\n",
       "</table>\n",
       "<p>3957 rows × 4 columns</p>\n",
       "</div>"
      ],
      "text/plain": [
       "                                      file               pose  width  height\n",
       "0     Segmented_Train_Movie_02_00003_0.jpg  Full Body Sitting    119     303\n",
       "1     Segmented_Train_Movie_02_00015_3.jpg  Full Body Sitting    121     285\n",
       "2     Segmented_Train_Movie_02_00526_2.jpg  Full Body Sitting    300     332\n",
       "3     Segmented_Train_Movie_02_00556_3.jpg  Full Body Sitting     21      84\n",
       "4     Segmented_Train_Movie_02_00560_2.jpg  Full Body Sitting     36      89\n",
       "...                                    ...                ...    ...     ...\n",
       "3952  Segmented_Train_Movie_03_02255_1.jpg              Other     35     105\n",
       "3953  Segmented_Train_Movie_03_02256_1.jpg              Other     36     106\n",
       "3954  Segmented_Train_Movie_03_02257_1.jpg              Other     31      79\n",
       "3955  Segmented_Train_Movie_03_02264_1.jpg              Other     35      56\n",
       "3956  Segmented_Train_Movie_03_02341_0.jpg              Other    202     280\n",
       "\n",
       "[3957 rows x 4 columns]"
      ]
     },
     "execution_count": 25,
     "metadata": {},
     "output_type": "execute_result"
    }
   ],
   "source": [
    "domain_Y_metadata"
   ]
  },
  {
   "cell_type": "code",
   "execution_count": 60,
   "id": "c1fce807-ef8b-4eec-a023-4bcc3d468070",
   "metadata": {
    "tags": []
   },
   "outputs": [
    {
     "data": {
      "text/plain": [
       "<Axes: ylabel='Frequency'>"
      ]
     },
     "execution_count": 63,
     "metadata": {},
     "output_type": "execute_result"
    },
    {
     "data": {
      "image/png": "[encoded data removed]",
      "text/plain": [
       "<Figure size 640x480 with 1 Axes>"
      ]
     },
     "metadata": {},
     "output_type": "display_data"
    }
   ],
   "source": [
    "domain_X_min_side = domain_X_metadata[[\"width\", \"height\"]].min(axis=1)\n",
    "domain_X_min_side.plot(kind=\"hist\", bins=[domain_X_min_side.min(), 50, 100, 150, 175, 200, 225, 250, 300, 400, 500, 600, domain_X_min_side.max()])"
   ]
  },
  {
   "cell_type": "code",
   "execution_count": 65,
   "id": "e09b9998-b6af-4fa6-9253-ce120319c595",
   "metadata": {
    "tags": []
   },
   "outputs": [
    {
     "data": {
      "text/plain": [
       "<Axes: ylabel='Frequency'>"
      ]
     },
     "execution_count": 65,
     "metadata": {},
     "output_type": "execute_result"
    },
    {
     "data": {
      "image/png": "[encoded data removed]",
      "text/plain": [
       "<Figure size 640x480 with 1 Axes>"
      ]
     },
     "metadata": {},
     "output_type": "display_data"
    }
   ],
   "source": [
    "domain_Y_min_side = domain_Y_metadata[[\"width\", \"height\"]].min(axis=1)\n",
    "domain_Y_min_side.plot(kind=\"hist\", bins=[domain_Y_min_side.min(), 50, 100, 150, 175, 200, 225, 250, 300, domain_Y_min_side.max()])"
   ]
  },
  {
   "cell_type": "code",
   "execution_count": 44,
   "id": "09ea63c4-4484-4722-9f6e-bd390426e1f2",
   "metadata": {
    "tags": []
   },
   "outputs": [
    {
     "data": {
      "text/plain": [
       "<Axes: >"
      ]
     },
     "execution_count": 44,
     "metadata": {},
     "output_type": "execute_result"
    },
    {
     "data": {
      "image/png": "[encoded data removed]",
      "text/plain": [
       "<Figure size 640x480 with 1 Axes>"
      ]
     },
     "metadata": {},
     "output_type": "display_data"
    }
   ],
   "source": [
    "domain_X_metadata[\"pose\"].value_counts().plot(kind=\"bar\")"
   ]
  },
  {
   "cell_type": "code",
   "execution_count": 48,
   "id": "5b8a785d-2dc1-4ad4-8a61-68178a52bf4d",
   "metadata": {
    "tags": []
   },
   "outputs": [
    {
     "data": {
      "text/plain": [
       "<Axes: >"
      ]
     },
     "execution_count": 48,
     "metadata": {},
     "output_type": "execute_result"
    },
    {
     "data": {
      "image/png": "[encoded data removed]",
      "text/plain": [
       "<Figure size 640x480 with 1 Axes>"
      ]
     },
     "metadata": {},
     "output_type": "display_data"
    }
   ],
   "source": [
    "domain_Y_metadata[\"pose\"].value_counts().plot(kind=\"bar\")"
   ]
  },
  {
   "cell_type": "code",
   "execution_count": null,
   "id": "d48f7dc0-a251-418c-84dc-92b8b3fe2821",
   "metadata": {},
   "outputs": [],
   "source": []
  }
 ],
 "metadata": {
  "kernelspec": {
   "display_name": "Python 3 (ipykernel)",
   "language": "python",
   "name": "python3"
  },
  "language_info": {
   "codemirror_mode": {
    "name": "ipython",
    "version": 3
   },
   "file_extension": ".py",
   "mimetype": "text/x-python",
   "name": "python",
   "nbconvert_exporter": "python",
   "pygments_lexer": "ipython3",
   "version": "3.10.7"
  }
 },
 "nbformat": 4,
 "nbformat_minor": 5
}
