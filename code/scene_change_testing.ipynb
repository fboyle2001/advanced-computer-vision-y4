{
 "cells": [
  {
   "cell_type": "code",
   "execution_count": 86,
   "id": "81e4978e-dad1-458c-aaf0-650c14187dbe",
   "metadata": {
    "tags": []
   },
   "outputs": [],
   "source": [
    "import random\n",
    "import time\n",
    "import os\n",
    "\n",
    "import cv2\n",
    "import numpy as np\n",
    "\n",
    "import torch\n",
    "import torchvision\n",
    "from PIL import Image, ImageFilter\n",
    "from IPython import display\n",
    "\n",
    "import torchvision.models\n",
    "from torchvision.transforms import transforms\n",
    "\n",
    "from tqdm.notebook import tqdm"
   ]
  },
  {
   "cell_type": "code",
   "execution_count": 51,
   "id": "aff86999-f60c-48c9-8f1e-7233bb9608ed",
   "metadata": {
    "tags": []
   },
   "outputs": [],
   "source": [
    "def get_frame_sequence(directory, prefix, start, end):\n",
    "    return [\n",
    "        f\"{directory}/{prefix}{frame_no:05d}.jpg\" for frame_no in range(start, end + 1)\n",
    "    ]\n",
    "\n",
    "scene_frame_sequences = [\n",
    "    get_frame_sequence(\"./frames/Train/Game\", \"Train_Game_01_\", 1, 7),\n",
    "    get_frame_sequence(\"./frames/Train/Game\", \"Train_Game_01_\", 8, 119),\n",
    "    get_frame_sequence(\"./frames/Train/Game\", \"Train_Game_01_\", 120, 214),\n",
    "    get_frame_sequence(\"./frames/Train/Game\", \"Train_Game_01_\", 215, 302)\n",
    "]\n",
    "\n",
    "loaded_frame_sequences = [\n",
    "    [Image.open(frame_loc) for frame_loc in scene_frame_sequence]\n",
    "    for scene_frame_sequence in scene_frame_sequences\n",
    "]\n",
    "\n",
    "merged_frame_sequences = [(scene_frame_sequences[i][j], loaded_frame_sequences[i][j]) for i in range(len(scene_frame_sequences)) for j in range(len(scene_frame_sequences[i]))]\n",
    "# merged_frame_sequences = [(frame_loc, frame) for frame_sequence in loaded_frame_sequences for frame in frame_sequence]"
   ]
  },
  {
   "cell_type": "code",
   "execution_count": 52,
   "id": "2242a896-2082-4aba-9962-9c5122e42b32",
   "metadata": {
    "tags": []
   },
   "outputs": [
    {
     "data": {
      "text/plain": [
       "4.3217162181712965"
      ]
     },
     "execution_count": 52,
     "metadata": {},
     "output_type": "execute_result"
    }
   ],
   "source": [
    "def score_frames(frame_1, frame_2):\n",
    "    img_1 = np.array(frame_1, dtype=np.float64)\n",
    "    img_2 = np.array(frame_2, dtype=np.float64)\n",
    "    \n",
    "    assert img_1.shape == img_2.shape\n",
    "    \n",
    "    mse = np.sum(np.sqrt(np.square(img_1 - img_2) ** 2)) / np.prod(img_1.shape)\n",
    "    return mse\n",
    "    \n",
    "score_frames(loaded_frame_sequences[1][71], loaded_frame_sequences[1][72])"
   ]
  },
  {
   "cell_type": "code",
   "execution_count": 55,
   "id": "def8a7a3-7c55-4dfe-8100-0e305b0c6dc7",
   "metadata": {
    "tags": []
   },
   "outputs": [],
   "source": [
    "def derive_sequences_with_test(images, threshold=500):\n",
    "    sequences = []\n",
    "    current_sequence = [images[0][1]]\n",
    "    last_frame = current_sequence[0]\n",
    "    \n",
    "    for (current_frame_loc, current_frame) in images[1:]:\n",
    "        consecutive_mse = score_frames(last_frame, current_frame)\n",
    "        \n",
    "        if consecutive_mse < threshold:\n",
    "            current_sequence.append(current_frame)\n",
    "        else:\n",
    "            sequences.append(current_sequence)\n",
    "            current_sequence = [current_frame]\n",
    "            \n",
    "            print(\"Broke at\", current_frame_loc, \"with score\", consecutive_mse)\n",
    "            \n",
    "        last_frame = current_frame\n",
    "            \n",
    "    sequences.append(current_sequence)\n",
    "    return sequences"
   ]
  },
  {
   "cell_type": "code",
   "execution_count": 56,
   "id": "dcd8f5b3-fc91-4382-9bec-2fbebeb6f34f",
   "metadata": {
    "tags": []
   },
   "outputs": [
    {
     "name": "stdout",
     "output_type": "stream",
     "text": [
      "Broke at ./frames/Train/Game/Train_Game_01_00008.jpg with score 2634.56570348669\n",
      "Broke at ./frames/Train/Game/Train_Game_01_00120.jpg with score 2081.083927951389\n",
      "Broke at ./frames/Train/Game/Train_Game_01_00215.jpg with score 2084.0212796585647\n"
     ]
    }
   ],
   "source": [
    "seqs = derive_sequences_with_test(merged_frame_sequences)"
   ]
  },
  {
   "cell_type": "code",
   "execution_count": 93,
   "id": "9bf78a0d-05e5-404c-a553-b02ec182958a",
   "metadata": {
    "tags": []
   },
   "outputs": [],
   "source": [
    "def derive_sequences_from_directory(ordered_dir, threshold, blur, save_dir=None):\n",
    "    images = [f\"{ordered_dir}/{file_name}\" for file_name in os.listdir(ordered_dir) if file_name.endswith(\".jpg\")]\n",
    "    \n",
    "    if save_dir is not None:\n",
    "        os.makedirs(save_dir)\n",
    "    \n",
    "    assert images == sorted(images)\n",
    "    \n",
    "    sequences = []\n",
    "    current_sequence = [images[0]]\n",
    "    last_frame = Image.open(images[0]).filter(ImageFilter.GaussianBlur(3))\n",
    "    \n",
    "    for current_frame_loc in tqdm(images[1:]):\n",
    "        current_frame = Image.open(current_frame_loc).filter(ImageFilter.GaussianBlur(3))\n",
    "        consecutive_mse = score_frames(last_frame, current_frame)\n",
    "        \n",
    "        if consecutive_mse < threshold:\n",
    "            current_sequence.append(current_frame_loc)\n",
    "        else:\n",
    "            sequences.append(current_sequence)\n",
    "            current_sequence = [current_frame_loc]\n",
    "            \n",
    "            if save_dir is not None:\n",
    "                save_loc = f\"{save_dir}/split_{len(sequences)}_{consecutive_mse}_{len(sequences[-1])}.jpg\"\n",
    "                frame_width, frame_height = current_frame.size\n",
    "                split_showcase = Image.new(\"RGB\", (frame_width * 2, frame_height))\n",
    "                split_showcase.paste(last_frame, (0, 0))\n",
    "                split_showcase.paste(current_frame, (frame_width, 0))\n",
    "                split_showcase.save(save_loc)\n",
    "            \n",
    "            print(\"Broke at\", current_frame_loc, \"with score\", consecutive_mse)\n",
    "        \n",
    "        last_frame = current_frame\n",
    "        \n",
    "    sequences.append(current_sequence)\n",
    "    return sequences"
   ]
  },
  {
   "cell_type": "code",
   "execution_count": 94,
   "id": "428a19ed-ff88-4733-82e6-363603e77f3c",
   "metadata": {
    "tags": []
   },
   "outputs": [
    {
     "data": {
      "application/vnd.jupyter.widget-view+json": {
       "model_id": "ca44125fdfe3434681e1345d27ed3ad8",
       "version_major": 2,
       "version_minor": 0
      },
      "text/plain": [
       "  0%|          | 0/5077 [00:00<?, ?it/s]"
      ]
     },
     "metadata": {},
     "output_type": "display_data"
    },
    {
     "name": "stdout",
     "output_type": "stream",
     "text": [
      "Broke at ./frames/Train/Game/Train_Game_01_00008.jpg with score 2522.4315483940973\n",
      "Broke at ./frames/Train/Game/Train_Game_01_00120.jpg with score 1991.9615285011573\n",
      "Broke at ./frames/Train/Game/Train_Game_01_00215.jpg with score 1960.8774996383102\n",
      "Broke at ./frames/Train/Game/Train_Game_01_00303.jpg with score 2016.9306962528935\n",
      "Broke at ./frames/Train/Game/Train_Game_01_00384.jpg with score 1988.8355711082177\n",
      "Broke at ./frames/Train/Game/Train_Game_01_00424.jpg with score 1938.4114558015046\n",
      "Broke at ./frames/Train/Game/Train_Game_01_00435.jpg with score 2569.925101634838\n",
      "Broke at ./frames/Train/Game/Train_Game_01_00447.jpg with score 1867.4635970052084\n",
      "Broke at ./frames/Train/Game/Train_Game_01_00453.jpg with score 1876.662536892361\n",
      "Broke at ./frames/Train/Game/Train_Game_01_00458.jpg with score 1896.8105230034723\n",
      "Broke at ./frames/Train/Game/Train_Game_01_00459.jpg with score 1930.6104097945602\n",
      "Broke at ./frames/Train/Game/Train_Game_01_00502.jpg with score 2236.9138237847224\n",
      "Broke at ./frames/Train/Game/Train_Game_01_00543.jpg with score 2198.9447450086805\n",
      "Broke at ./frames/Train/Game/Train_Game_01_00558.jpg with score 3327.6157693142363\n",
      "Broke at ./frames/Train/Game/Train_Game_01_00583.jpg with score 2393.8001786747686\n",
      "Broke at ./frames/Train/Game/Train_Game_01_00595.jpg with score 2243.4738715277776\n",
      "Broke at ./frames/Train/Game/Train_Game_01_00608.jpg with score 2239.9350119357637\n",
      "Broke at ./frames/Train/Game/Train_Game_01_00637.jpg with score 2177.435056423611\n",
      "Broke at ./frames/Train/Game/Train_Game_01_00682.jpg with score 1944.6349222366898\n",
      "Broke at ./frames/Train/Game/Train_Game_01_00699.jpg with score 1711.0834371383103\n",
      "Broke at ./frames/Train/Game/Train_Game_01_00728.jpg with score 2152.4328479456017\n",
      "Broke at ./frames/Train/Game/Train_Game_01_00768.jpg with score 3305.666685474537\n",
      "Broke at ./frames/Train/Game/Train_Game_01_00795.jpg with score 2479.865671296296\n",
      "Broke at ./frames/Train/Game/Train_Game_01_00869.jpg with score 9453.517600188079\n",
      "Broke at ./frames/Train/Game/Train_Game_01_01142.jpg with score 4184.825583043981\n",
      "Broke at ./frames/Train/Game/Train_Game_01_01216.jpg with score 2369.397718098958\n",
      "Broke at ./frames/Train/Game/Train_Game_01_01334.jpg with score 2133.78283166956\n",
      "Broke at ./frames/Train/Game/Train_Game_02_00001.jpg with score 2900.584193070023\n",
      "Broke at ./frames/Train/Game/Train_Game_02_00007.jpg with score 6267.464412615741\n",
      "Broke at ./frames/Train/Game/Train_Game_02_00053.jpg with score 3671.716359230324\n",
      "Broke at ./frames/Train/Game/Train_Game_02_00142.jpg with score 1519.466814236111\n",
      "Broke at ./frames/Train/Game/Train_Game_02_00144.jpg with score 1889.4646907552083\n",
      "Broke at ./frames/Train/Game/Train_Game_02_00145.jpg with score 1842.4206004050925\n",
      "Broke at ./frames/Train/Game/Train_Game_02_00146.jpg with score 1837.298755787037\n",
      "Broke at ./frames/Train/Game/Train_Game_02_00193.jpg with score 3297.7437847222222\n",
      "Broke at ./frames/Train/Game/Train_Game_02_00207.jpg with score 1791.5768681278935\n",
      "Broke at ./frames/Train/Game/Train_Game_02_00208.jpg with score 1838.8795099103008\n",
      "Broke at ./frames/Train/Game/Train_Game_02_00209.jpg with score 1825.5252329282407\n",
      "Broke at ./frames/Train/Game/Train_Game_02_00211.jpg with score 1549.7137481915508\n",
      "Broke at ./frames/Train/Game/Train_Game_02_00299.jpg with score 5866.937584997107\n",
      "Broke at ./frames/Train/Game/Train_Game_02_00351.jpg with score 3994.546590350116\n",
      "Broke at ./frames/Train/Game/Train_Game_03_00001.jpg with score 4426.271142216435\n",
      "Broke at ./frames/Train/Game/Train_Game_03_00035.jpg with score 2473.8491330295137\n",
      "Broke at ./frames/Train/Game/Train_Game_03_00087.jpg with score 2582.824717158565\n",
      "Broke at ./frames/Train/Game/Train_Game_03_00130.jpg with score 2238.668972800926\n",
      "Broke at ./frames/Train/Game/Train_Game_03_00157.jpg with score 2279.123784360532\n",
      "Broke at ./frames/Train/Game/Train_Game_03_00197.jpg with score 2175.739535228588\n",
      "Broke at ./frames/Train/Game/Train_Game_03_00270.jpg with score 2847.7564680989585\n",
      "Broke at ./frames/Train/Game/Train_Game_04_00001.jpg with score 3958.612658058449\n",
      "Broke at ./frames/Train/Game/Train_Game_04_00002.jpg with score 2871.569850260417\n",
      "Broke at ./frames/Train/Game/Train_Game_04_00003.jpg with score 3931.7157157841434\n",
      "Broke at ./frames/Train/Game/Train_Game_04_00004.jpg with score 3716.3182508680557\n",
      "Broke at ./frames/Train/Game/Train_Game_04_00005.jpg with score 6641.614067563657\n",
      "Broke at ./frames/Train/Game/Train_Game_04_00048.jpg with score 2024.6580638744213\n",
      "Broke at ./frames/Train/Game/Train_Game_04_00082.jpg with score 4251.631242404514\n",
      "Broke at ./frames/Train/Game/Train_Game_04_00102.jpg with score 1529.5848650896992\n",
      "Broke at ./frames/Train/Game/Train_Game_04_00104.jpg with score 1783.2307765480325\n"
     ]
    },
    {
     "ename": "KeyboardInterrupt",
     "evalue": "",
     "output_type": "error",
     "traceback": [
      "\u001b[1;31m---------------------------------------------------------------------------\u001b[0m",
      "\u001b[1;31mKeyboardInterrupt\u001b[0m                         Traceback (most recent call last)",
      "Cell \u001b[1;32mIn[94], line 4\u001b[0m\n\u001b[0;32m      2\u001b[0m blur \u001b[38;5;241m=\u001b[39m \u001b[38;5;28;01mTrue\u001b[39;00m\n\u001b[0;32m      3\u001b[0m save_dir \u001b[38;5;241m=\u001b[39m \u001b[38;5;124mf\u001b[39m\u001b[38;5;124m\"\u001b[39m\u001b[38;5;124m./frame_split_testing/\u001b[39m\u001b[38;5;132;01m{\u001b[39;00mtime\u001b[38;5;241m.\u001b[39mtime()\u001b[38;5;132;01m}\u001b[39;00m\u001b[38;5;124m_\u001b[39m\u001b[38;5;132;01m{\u001b[39;00m\u001b[38;5;124m'\u001b[39m\u001b[38;5;124mblur\u001b[39m\u001b[38;5;124m'\u001b[39m\u001b[38;5;250m \u001b[39m\u001b[38;5;28;01mif\u001b[39;00m\u001b[38;5;250m \u001b[39mblur\u001b[38;5;250m \u001b[39m\u001b[38;5;28;01melse\u001b[39;00m\u001b[38;5;250m \u001b[39m\u001b[38;5;124m'\u001b[39m\u001b[38;5;124mno_blur\u001b[39m\u001b[38;5;124m'\u001b[39m\u001b[38;5;132;01m}\u001b[39;00m\u001b[38;5;124m_\u001b[39m\u001b[38;5;132;01m{\u001b[39;00mthreshold\u001b[38;5;132;01m}\u001b[39;00m\u001b[38;5;124m\"\u001b[39m\n\u001b[1;32m----> 4\u001b[0m derived_sequences \u001b[38;5;241m=\u001b[39m \u001b[43mderive_sequences_from_directory\u001b[49m\u001b[43m(\u001b[49m\u001b[38;5;124;43m\"\u001b[39;49m\u001b[38;5;124;43m./frames/Train/Game\u001b[39;49m\u001b[38;5;124;43m\"\u001b[39;49m\u001b[43m,\u001b[49m\u001b[43m \u001b[49m\u001b[43mthreshold\u001b[49m\u001b[43m,\u001b[49m\u001b[43m \u001b[49m\u001b[43mblur\u001b[49m\u001b[43m,\u001b[49m\u001b[43m \u001b[49m\u001b[43msave_dir\u001b[49m\u001b[43m)\u001b[49m\n",
      "Cell \u001b[1;32mIn[93], line 15\u001b[0m, in \u001b[0;36mderive_sequences_from_directory\u001b[1;34m(ordered_dir, threshold, blur, save_dir)\u001b[0m\n\u001b[0;32m     13\u001b[0m \u001b[38;5;28;01mfor\u001b[39;00m current_frame_loc \u001b[38;5;129;01min\u001b[39;00m tqdm(images[\u001b[38;5;241m1\u001b[39m:]):\n\u001b[0;32m     14\u001b[0m     current_frame \u001b[38;5;241m=\u001b[39m Image\u001b[38;5;241m.\u001b[39mopen(current_frame_loc)\u001b[38;5;241m.\u001b[39mfilter(ImageFilter\u001b[38;5;241m.\u001b[39mGaussianBlur(\u001b[38;5;241m3\u001b[39m))\n\u001b[1;32m---> 15\u001b[0m     consecutive_mse \u001b[38;5;241m=\u001b[39m \u001b[43mscore_frames\u001b[49m\u001b[43m(\u001b[49m\u001b[43mlast_frame\u001b[49m\u001b[43m,\u001b[49m\u001b[43m \u001b[49m\u001b[43mcurrent_frame\u001b[49m\u001b[43m)\u001b[49m\n\u001b[0;32m     17\u001b[0m     \u001b[38;5;28;01mif\u001b[39;00m consecutive_mse \u001b[38;5;241m<\u001b[39m threshold:\n\u001b[0;32m     18\u001b[0m         current_sequence\u001b[38;5;241m.\u001b[39mappend(current_frame_loc)\n",
      "Cell \u001b[1;32mIn[52], line 7\u001b[0m, in \u001b[0;36mscore_frames\u001b[1;34m(frame_1, frame_2)\u001b[0m\n\u001b[0;32m      3\u001b[0m img_2 \u001b[38;5;241m=\u001b[39m np\u001b[38;5;241m.\u001b[39marray(frame_2, dtype\u001b[38;5;241m=\u001b[39mnp\u001b[38;5;241m.\u001b[39mfloat64)\n\u001b[0;32m      5\u001b[0m \u001b[38;5;28;01massert\u001b[39;00m img_1\u001b[38;5;241m.\u001b[39mshape \u001b[38;5;241m==\u001b[39m img_2\u001b[38;5;241m.\u001b[39mshape\n\u001b[1;32m----> 7\u001b[0m mse \u001b[38;5;241m=\u001b[39m np\u001b[38;5;241m.\u001b[39msum(\u001b[43mnp\u001b[49m\u001b[38;5;241;43m.\u001b[39;49m\u001b[43msqrt\u001b[49m\u001b[43m(\u001b[49m\u001b[43mnp\u001b[49m\u001b[38;5;241;43m.\u001b[39;49m\u001b[43msquare\u001b[49m\u001b[43m(\u001b[49m\u001b[43mimg_1\u001b[49m\u001b[43m \u001b[49m\u001b[38;5;241;43m-\u001b[39;49m\u001b[43m \u001b[49m\u001b[43mimg_2\u001b[49m\u001b[43m)\u001b[49m\u001b[43m \u001b[49m\u001b[38;5;241;43m*\u001b[39;49m\u001b[38;5;241;43m*\u001b[39;49m\u001b[43m \u001b[49m\u001b[38;5;241;43m2\u001b[39;49m\u001b[43m)\u001b[49m) \u001b[38;5;241m/\u001b[39m np\u001b[38;5;241m.\u001b[39mprod(img_1\u001b[38;5;241m.\u001b[39mshape)\n\u001b[0;32m      8\u001b[0m \u001b[38;5;28;01mreturn\u001b[39;00m mse\n",
      "\u001b[1;31mKeyboardInterrupt\u001b[0m: "
     ]
    }
   ],
   "source": [
    "threshold = 1500\n",
    "blur = True\n",
    "save_dir = f\"./frame_split_testing/{time.time()}_{'blur' if blur else 'no_blur'}_{threshold}\"\n",
    "derived_sequences = derive_sequences_from_directory(\"./frames/Train/Game\", threshold, blur, save_dir)"
   ]
  },
  {
   "cell_type": "code",
   "execution_count": null,
   "id": "6d9ae3ca-4fe9-416d-a9a0-1cf7c8739b4d",
   "metadata": {},
   "outputs": [],
   "source": []
  },
  {
   "cell_type": "code",
   "execution_count": null,
   "id": "9bc75fd0-941e-4959-ba0b-fa82769f9ed4",
   "metadata": {},
   "outputs": [],
   "source": []
  }
 ],
 "metadata": {
  "kernelspec": {
   "display_name": "Python 3 (ipykernel)",
   "language": "python",
   "name": "python3"
  },
  "language_info": {
   "codemirror_mode": {
    "name": "ipython",
    "version": 3
   },
   "file_extension": ".py",
   "mimetype": "text/x-python",
   "name": "python",
   "nbconvert_exporter": "python",
   "pygments_lexer": "ipython3",
   "version": "3.10.7"
  }
 },
 "nbformat": 4,
 "nbformat_minor": 5
}
