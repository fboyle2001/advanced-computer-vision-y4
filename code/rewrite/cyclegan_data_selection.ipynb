{
 "cells": [
  {
   "cell_type": "code",
   "execution_count": 19,
   "id": "fdb10eff-f599-49f2-a21e-a86b8e7dc7df",
   "metadata": {
    "tags": []
   },
   "outputs": [],
   "source": [
    "import os\n",
    "import random\n",
    "\n",
    "from PIL import Image\n",
    "import imagehash\n",
    "\n",
    "from tqdm.notebook import tqdm"
   ]
  },
  {
   "cell_type": "code",
   "execution_count": 31,
   "id": "4a0904ae-9d44-4780-ae57-d6cd276f7958",
   "metadata": {
    "tags": []
   },
   "outputs": [],
   "source": [
    "base = \"Train/Movie\"\n",
    "classes = [\"Full Body Sitting\", \"Full Body Standing\", \"Half Body\", \"Head Only\"]\n",
    "\n",
    "input_directories = [f\"../temporal_data_extraction/human_poses_classified/{base}/{class_name}\" for class_name in classes]"
   ]
  },
  {
   "cell_type": "code",
   "execution_count": 32,
   "id": "3899775e-3173-4218-a72b-83ff93accc0e",
   "metadata": {
    "tags": []
   },
   "outputs": [],
   "source": [
    "cutoff = 8\n",
    "window = 5"
   ]
  },
  {
   "cell_type": "code",
   "execution_count": 33,
   "id": "20013d01-55ee-4cf8-b6cf-a192f39907cf",
   "metadata": {
    "tags": []
   },
   "outputs": [],
   "source": [
    "def group_similar_images(ordered_dir, cutoff, window):\n",
    "    image_locs = [f\"{ordered_dir}/{file_name}\" for file_name in os.listdir(ordered_dir) if file_name.endswith(\".jpg\")]\n",
    "    groups = [[image_locs[0]]]\n",
    "    \n",
    "    for image_loc in tqdm(image_locs):\n",
    "        img_hash = imagehash.average_hash(Image.open(image_loc))\n",
    "        \n",
    "        closest_group_idx = -1\n",
    "        closest_group_diff = 65\n",
    "        \n",
    "        for offset, group in enumerate(groups[-window:][::-1]):\n",
    "            group_idx = len(groups) - offset - 1\n",
    "            last_hash = imagehash.average_hash(Image.open(group[-1]))\n",
    "            diff = img_hash - last_hash\n",
    "            \n",
    "            if diff < closest_group_diff:\n",
    "                closest_group_idx = group_idx\n",
    "                closest_group_diff = diff\n",
    "        \n",
    "        if closest_group_diff <= cutoff:\n",
    "            groups[closest_group_idx].append(image_loc)\n",
    "        else:\n",
    "            groups.append([image_loc])\n",
    "    \n",
    "    return groups"
   ]
  },
  {
   "cell_type": "code",
   "execution_count": 34,
   "id": "15a805da-ecfc-4a1b-9587-71eed9977104",
   "metadata": {
    "tags": []
   },
   "outputs": [
    {
     "data": {
      "application/vnd.jupyter.widget-view+json": {
       "model_id": "a35280bac448426aaf8b2a65e93b12f3",
       "version_major": 2,
       "version_minor": 0
      },
      "text/plain": [
       "  0%|          | 0/55 [00:00<?, ?it/s]"
      ]
     },
     "metadata": {},
     "output_type": "display_data"
    },
    {
     "name": "stdout",
     "output_type": "stream",
     "text": [
      "45\n"
     ]
    },
    {
     "data": {
      "application/vnd.jupyter.widget-view+json": {
       "model_id": "bdb0d70a59454096a7a27a1781c8e0a7",
       "version_major": 2,
       "version_minor": 0
      },
      "text/plain": [
       "  0%|          | 0/1157 [00:00<?, ?it/s]"
      ]
     },
     "metadata": {},
     "output_type": "display_data"
    },
    {
     "name": "stdout",
     "output_type": "stream",
     "text": [
      "251\n"
     ]
    },
    {
     "data": {
      "application/vnd.jupyter.widget-view+json": {
       "model_id": "eb1244855dde437bb14592a17a09ab44",
       "version_major": 2,
       "version_minor": 0
      },
      "text/plain": [
       "  0%|          | 0/5331 [00:00<?, ?it/s]"
      ]
     },
     "metadata": {},
     "output_type": "display_data"
    },
    {
     "name": "stdout",
     "output_type": "stream",
     "text": [
      "425\n"
     ]
    },
    {
     "data": {
      "application/vnd.jupyter.widget-view+json": {
       "model_id": "59b79d9b5c6347919df52404fe2c5ff3",
       "version_major": 2,
       "version_minor": 0
      },
      "text/plain": [
       "  0%|          | 0/3661 [00:00<?, ?it/s]"
      ]
     },
     "metadata": {},
     "output_type": "display_data"
    },
    {
     "name": "stdout",
     "output_type": "stream",
     "text": [
      "607\n"
     ]
    }
   ],
   "source": [
    "groups = []\n",
    "\n",
    "for input_directory in input_directories:\n",
    "    dir_groups = group_similar_images(input_directory, cutoff, window)\n",
    "    print(len(dir_groups))\n",
    "    groups += dir_groups"
   ]
  },
  {
   "cell_type": "code",
   "execution_count": 35,
   "id": "8ee8ccd9-b4ce-493c-a094-cdf3db20b8aa",
   "metadata": {
    "tags": []
   },
   "outputs": [],
   "source": [
    "target_test_count = 250\n",
    "target_train_count = 1200\n",
    "output_size = 128\n",
    "min_size = 64\n",
    "sequence_proportion = 0.05"
   ]
  },
  {
   "cell_type": "code",
   "execution_count": 36,
   "id": "81cf9e30-da93-40ed-87ab-d9c1d3193fa3",
   "metadata": {
    "tags": []
   },
   "outputs": [],
   "source": [
    "train_output_directory = f\"../temporal_data_extraction/cyclegan/{base}/Train\"\n",
    "test_output_directory = f\"../temporal_data_extraction/cyclegan/{base}/Test\"\n",
    "\n",
    "os.makedirs(train_output_directory, exist_ok=False)\n",
    "os.makedirs(test_output_directory, exist_ok=False)"
   ]
  },
  {
   "cell_type": "code",
   "execution_count": 37,
   "id": "058986c7-e8aa-416d-b075-0268995fea28",
   "metadata": {
    "tags": []
   },
   "outputs": [
    {
     "data": {
      "application/vnd.jupyter.widget-view+json": {
       "model_id": "8b1dc8bb0f004cab90ee19e490bbdfc4",
       "version_major": 2,
       "version_minor": 0
      },
      "text/plain": [
       "  0%|          | 0/1328 [00:00<?, ?it/s]"
      ]
     },
     "metadata": {},
     "output_type": "display_data"
    }
   ],
   "source": [
    "for group_no, group in enumerate(tqdm(groups)):\n",
    "    selected_patches = random.sample(range(len(group)), k=max(1, int(sequence_proportion * len(group))))\n",
    "    \n",
    "    for i in selected_patches:\n",
    "        x = Image.open(group[i])\n",
    "        \n",
    "        if x.width < min_size or x.height < min_size:\n",
    "            continue\n",
    "        \n",
    "        x = x.resize((output_size, output_size))\n",
    "        x.save(f\"{train_output_directory}/{group_no:05d}_{i:05d}.jpg\")"
   ]
  },
  {
   "cell_type": "code",
   "execution_count": 38,
   "id": "77ec51bb-009b-40c9-9a8b-035ae49c3cd7",
   "metadata": {
    "tags": []
   },
   "outputs": [],
   "source": [
    "valid_train_files = [file_name for file_name in os.listdir(train_output_directory) if file_name.endswith(\".jpg\")]"
   ]
  },
  {
   "cell_type": "code",
   "execution_count": 39,
   "id": "4701b76b-64f1-4a89-8f1c-d7ed8cc1ec0c",
   "metadata": {
    "tags": []
   },
   "outputs": [
    {
     "data": {
      "text/plain": [
       "1306"
      ]
     },
     "execution_count": 39,
     "metadata": {},
     "output_type": "execute_result"
    }
   ],
   "source": [
    "len(valid_train_files)"
   ]
  },
  {
   "cell_type": "code",
   "execution_count": 40,
   "id": "84bc964d-076d-4a12-bfe2-71d72ce85d07",
   "metadata": {
    "tags": []
   },
   "outputs": [
    {
     "name": "stdout",
     "output_type": "stream",
     "text": [
      "Moved 106 files to test\n"
     ]
    }
   ],
   "source": [
    "if len(valid_train_files) > target_train_count:\n",
    "    available_for_test = min(len(valid_train_files) - target_train_count, target_test_count)\n",
    "    selected_for_test = random.sample(valid_train_files, k=available_for_test)\n",
    "    \n",
    "    for file_name in selected_for_test:\n",
    "        os.rename(f\"{train_output_directory}/{file_name}\", f\"{test_output_directory}/{file_name}\")\n",
    "    \n",
    "    print(\"Moved\", len(selected_for_test), \"files to test\")"
   ]
  },
  {
   "cell_type": "code",
   "execution_count": 41,
   "id": "922b3043-3049-423c-8ba1-3cb75f872a97",
   "metadata": {
    "tags": []
   },
   "outputs": [],
   "source": [
    "valid_train_files = [file_name for file_name in os.listdir(train_output_directory) if file_name.endswith(\".jpg\")]"
   ]
  },
  {
   "cell_type": "code",
   "execution_count": 42,
   "id": "8db7b188-bbc6-4b92-8105-c4a83d1eb4be",
   "metadata": {
    "tags": []
   },
   "outputs": [
    {
     "data": {
      "text/plain": [
       "1200"
      ]
     },
     "execution_count": 42,
     "metadata": {},
     "output_type": "execute_result"
    }
   ],
   "source": [
    "len(valid_train_files)"
   ]
  },
  {
   "cell_type": "code",
   "execution_count": 43,
   "id": "9b973051-3f7f-463a-9a3b-11755a50b9cd",
   "metadata": {
    "tags": []
   },
   "outputs": [],
   "source": [
    "if len(valid_train_files) > target_train_count:\n",
    "    selected_for_delete = random.sample(valid_train_files, k=len(valid_train_files) - target_train_count)\n",
    "    \n",
    "    for file_name in selected_for_delete:\n",
    "        os.remove(f\"{train_output_directory}/{file_name}\")\n",
    "    \n",
    "    print(\"Deleted\", len(selected_for_delete), \"files\")"
   ]
  },
  {
   "cell_type": "code",
   "execution_count": null,
   "id": "46939462-7669-488b-a24c-a39f1cea9e49",
   "metadata": {},
   "outputs": [],
   "source": []
  }
 ],
 "metadata": {
  "kernelspec": {
   "display_name": "Python 3 (ipykernel)",
   "language": "python",
   "name": "python3"
  },
  "language_info": {
   "codemirror_mode": {
    "name": "ipython",
    "version": 3
   },
   "file_extension": ".py",
   "mimetype": "text/x-python",
   "name": "python",
   "nbconvert_exporter": "python",
   "pygments_lexer": "ipython3",
   "version": "3.10.7"
  }
 },
 "nbformat": 4,
 "nbformat_minor": 5
}
