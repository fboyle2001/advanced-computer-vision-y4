{
 "cells": [
  {
   "cell_type": "code",
   "execution_count": 120,
   "id": "8dc59ffb-214f-490d-9f16-9942875cad6e",
   "metadata": {
    "tags": []
   },
   "outputs": [],
   "source": [
    "import random\n",
    "import time\n",
    "import os\n",
    "import shutil\n",
    "import json\n",
    "\n",
    "from tqdm import tqdm\n",
    "\n",
    "import cv2\n",
    "import numpy as np\n",
    "\n",
    "import torch\n",
    "import torchvision\n",
    "import torch.nn as nn\n",
    "import torch.optim as optim\n",
    "\n",
    "from PIL import Image\n",
    "from IPython import display\n",
    "\n",
    "from torchvision.transforms import transforms\n",
    "import torch.utils.data\n",
    "from torchsummary import summary\n",
    "\n",
    "import matplotlib.pyplot as plt\n",
    "import itertools\n",
    "\n",
    "from pytorchCycleGANandpix2pix.models import networks as offnets\n",
    "from pytorchCycleGANandpix2pix.util.image_pool import ImagePool\n",
    "from pytorchCycleGANandpix2pix.util.util import tensor2im\n",
    "\n",
    "import cyclegan_models"
   ]
  },
  {
   "cell_type": "code",
   "execution_count": 121,
   "id": "5a3129f0-5873-4e8f-ba0e-54d21e7e2361",
   "metadata": {
    "tags": []
   },
   "outputs": [],
   "source": [
    "train_target_size = 1500\n",
    "test_target_size = int(train_target_size * 0.2)\n",
    "domain_folders = [\"./output/pose_classified_game\", \"./output/pose_classified_movie\"]\n",
    "class_folders = [\"Full Body Sitting\", \"Full Body Standing\", \"Half Body\", \"Head Only\", \"Other\"]\n",
    "img_file_ext = \".jpg\"\n",
    "store_folder = f\"./selected_data/experiment_stratified_selection_{time.time()}\"\n",
    "width = 128"
   ]
  },
  {
   "cell_type": "code",
   "execution_count": 9,
   "id": "f7f1ceba-7db0-4833-98ac-365a791636ad",
   "metadata": {
    "tags": []
   },
   "outputs": [],
   "source": [
    "def get_class_images(domain_folder, class_folders):\n",
    "    images = {}\n",
    "    total = 0\n",
    "    \n",
    "    for class_folder in class_folders:\n",
    "        files = os.listdir(f\"{domain_folder}/{class_folder}\")\n",
    "        image_files = [x for x in files if x.endswith(img_file_ext)]\n",
    "        images[class_folder] = image_files\n",
    "        total += len(image_files)\n",
    "        \n",
    "    return images, total"
   ]
  },
  {
   "cell_type": "code",
   "execution_count": 37,
   "id": "7f29a1c6-a898-4ddc-87c8-0dbae4caba49",
   "metadata": {
    "tags": []
   },
   "outputs": [],
   "source": [
    "domain_X_imgs, domain_X_total = get_class_images(domain_folders[0], class_folders)\n",
    "domain_X_dist = {k: len(domain_X_imgs[k]) / domain_X_total for k in domain_X_imgs.keys()}"
   ]
  },
  {
   "cell_type": "code",
   "execution_count": 38,
   "id": "eebece54-5fc1-4ac1-889a-f1431fce0a56",
   "metadata": {
    "tags": []
   },
   "outputs": [],
   "source": [
    "domain_Y_imgs, domain_Y_total = get_class_images(domain_folders[1], class_folders)\n",
    "domain_Y_dist = {k: len(domain_Y_imgs[k]) / domain_Y_total for k in domain_Y_imgs.keys()}"
   ]
  },
  {
   "cell_type": "code",
   "execution_count": 39,
   "id": "2a9bba95-829d-4e00-bf15-735870889ce9",
   "metadata": {
    "tags": []
   },
   "outputs": [],
   "source": [
    "random_class_dist = {k: 1 / len(class_folders) for k in class_folders}"
   ]
  },
  {
   "cell_type": "code",
   "execution_count": 40,
   "id": "a051639c-e557-402b-9fa6-5a8869f35108",
   "metadata": {
    "tags": []
   },
   "outputs": [],
   "source": [
    "selected_sampling_dist_type = [\"stratified_domain_X\", \"stratified_domain_Y\", \"random\"][0]\n",
    "selected_sampling_dist = {\n",
    "    \"stratified_domain_X\": domain_X_dist,\n",
    "    \"stratified_domain_Y\": domain_Y_dist,\n",
    "    \"random\": random\n",
    "}[selected_sampling_dist_type]"
   ]
  },
  {
   "cell_type": "code",
   "execution_count": 111,
   "id": "cbe0fce0-d370-4329-83b2-2a8975272f79",
   "metadata": {
    "tags": []
   },
   "outputs": [],
   "source": [
    "resize_strategy = [\"scale_smallest_side\", \"force_resize\"][0]\n",
    "# scale_smallest_side will scale to smallest side to <width> while maintaining the aspect ratio\n",
    "# they are then cropped in the dataset for variation before going into the model during training"
   ]
  },
  {
   "cell_type": "code",
   "execution_count": 89,
   "id": "88396c70-00c4-4809-9e44-9b45a526ad18",
   "metadata": {
    "tags": []
   },
   "outputs": [],
   "source": [
    "excess_allocation_strategy = [\"random_reallocation\", \"ignore\"][0]"
   ]
  },
  {
   "cell_type": "code",
   "execution_count": 107,
   "id": "862ff09e-d08e-454c-94b6-cf3fa85e7342",
   "metadata": {
    "tags": []
   },
   "outputs": [],
   "source": [
    "def sample_images(class_folders, sampling_distribution, class_imgs, train_size, test_size, excess_allocation_strategy):\n",
    "    # Start by figuring out how much of each class we want to actually sample\n",
    "    expected_allocations = {class_name: round(sampling_distribution[class_name] * (train_size + test_size)) for class_name in class_folders}\n",
    "    \n",
    "    # Now check if we want more images than we actually have, if so we need to reallocate or fix the sample count\n",
    "    # print({class_name: len(class_imgs[class_name]) for class_name in class_folders})\n",
    "    # print(expected_allocations)\n",
    "    \n",
    "    excess_allocations = {class_name: abs(min(0, len(class_imgs[class_name]) - expected_allocations[class_name])) for class_name in class_folders}\n",
    "    \n",
    "    if excess_allocation_strategy == \"random_reallocation\":\n",
    "        excluded_classes = set()\n",
    "        \n",
    "        while sum(excess_allocations.values()) != 0 and len(excluded_classes) != len(class_folders):\n",
    "            classes_with_space = [class_name for class_name in excess_allocations.keys() if excess_allocations[class_name] == 0 and class_name not in excluded_classes]\n",
    "            excess_amount_per_class = sum(excess_allocations.values()) // len(classes_with_space)\n",
    "            \n",
    "            for class_name in classes_with_space:\n",
    "                expected_allocations[class_name] += excess_amount_per_class\n",
    "            \n",
    "            for class_name in excess_allocations.keys():\n",
    "                if class_name not in classes_with_space:\n",
    "                    expected_allocations[class_name] = len(class_imgs[class_name])\n",
    "                    excluded_classes.add(class_name)\n",
    "            \n",
    "            excess_allocations = {class_name: abs(min(0, len(class_imgs[class_name]) - expected_allocations[class_name])) for class_name in class_folders}\n",
    "    else:\n",
    "        for class_name in excess_allocations.keys():\n",
    "            if excess_allocations[class_name] > 0:\n",
    "                expected_allocations[class_name] = len(class_imgs[class_name])\n",
    "    \n",
    "    # print(expected_allocations)\n",
    "    \n",
    "    train_split = {}\n",
    "    test_split = {}\n",
    "    \n",
    "    for class_name in class_folders:\n",
    "        total_allocation = expected_allocations[class_name]\n",
    "        train_allocation = round(expected_allocations[class_name] * (train_size / (train_size + test_size)))\n",
    "        \n",
    "        sampled_class_imgs = random.sample(class_imgs[class_name], total_allocation)\n",
    "        train_split[class_name] = sampled_class_imgs[:train_allocation]\n",
    "        test_split[class_name] = sampled_class_imgs[train_allocation:]\n",
    "    \n",
    "    return train_split, test_split"
   ]
  },
  {
   "cell_type": "code",
   "execution_count": 115,
   "id": "2548d4d1-0df9-459c-91f7-5aa081ae927d",
   "metadata": {
    "tags": []
   },
   "outputs": [],
   "source": [
    "domain_X_train_imgs, domain_X_test_imgs = sample_images(class_folders, selected_sampling_dist, domain_X_imgs, train_target_size, test_target_size, excess_allocation_strategy)"
   ]
  },
  {
   "cell_type": "code",
   "execution_count": 116,
   "id": "22f6f8d9-7479-4587-9b3e-95233367b79e",
   "metadata": {
    "tags": []
   },
   "outputs": [],
   "source": [
    "domain_Y_train_imgs, domain_Y_test_imgs = sample_images(class_folders, selected_sampling_dist, domain_Y_imgs, train_target_size, test_target_size, excess_allocation_strategy)"
   ]
  },
  {
   "cell_type": "code",
   "execution_count": 179,
   "id": "f19821f9-ab56-4e14-a2f9-203eacc8e16a",
   "metadata": {
    "tags": []
   },
   "outputs": [],
   "source": [
    "try:\n",
    "    shutil.rmtree(store_folder)\n",
    "except OSError:\n",
    "    pass\n",
    "\n",
    "os.makedirs(store_folder)\n",
    "os.makedirs(f\"{store_folder}/X/train\")\n",
    "os.makedirs(f\"{store_folder}/X/test\")\n",
    "os.makedirs(f\"{store_folder}/Y/train\")\n",
    "os.makedirs(f\"{store_folder}/Y/test\")"
   ]
  },
  {
   "cell_type": "code",
   "execution_count": 180,
   "id": "f07176ef-65c7-4d1f-885e-3982ac77dd11",
   "metadata": {
    "tags": []
   },
   "outputs": [],
   "source": [
    "with open(f\"{store_folder}/info.json\", \"w+\") as fp:\n",
    "    json.dump({\n",
    "        \"class_folders\": class_folders,\n",
    "        \"domain_folders\": domain_folders,\n",
    "        \"selected_sampling_dist_type\": selected_sampling_dist_type,\n",
    "        \"selected_sampling_dist\": selected_sampling_dist,\n",
    "        \"resize_strategy\": resize_strategy,\n",
    "        \"excess_allocation_strategy\": excess_allocation_strategy,\n",
    "        \"img_file_ext\": img_file_ext,\n",
    "        \"store_folder\": store_folder,\n",
    "        \"width\": width,\n",
    "        \"train_target_size\": train_target_size,\n",
    "        \"test_target_size\": test_target_size,\n",
    "        \"X\": {\n",
    "            \"org_dist\": domain_X_dist,\n",
    "            \"train\": {k: len(domain_X_train_imgs[k]) for k in class_folders},\n",
    "            \"test\": {k: len(domain_X_test_imgs[k]) for k in class_folders}\n",
    "        },\n",
    "        \"Y\": {\n",
    "            \"org_dist\": domain_Y_dist,\n",
    "            \"train\": {k: len(domain_Y_train_imgs[k]) for k in class_folders},\n",
    "            \"test\": {k: len(domain_Y_test_imgs[k]) for k in class_folders}\n",
    "        }\n",
    "    }, fp, indent=2)"
   ]
  },
  {
   "cell_type": "code",
   "execution_count": 178,
   "id": "1d6257d4-7616-460d-b16b-6a3cd59d2ec0",
   "metadata": {
    "tags": []
   },
   "outputs": [],
   "source": [
    "def save_images(save_folder, original_folder, class_images, resize_strategy, img_file_ext, desired_size):\n",
    "    for class_name in class_images.keys():\n",
    "        save_class_name = \"_\".join(class_name.lower().split(\" \"))\n",
    "        \n",
    "        for i, image_name in enumerate(class_images[class_name]):\n",
    "            original_loc = f\"{original_folder}/{class_name}/{image_name}\"\n",
    "            save_loc = f\"{save_folder}/{save_class_name}_{i}{img_file_ext}\"\n",
    "            \n",
    "            image = Image.open(original_loc)\n",
    "            width, height = image.width, image.height\n",
    "            \n",
    "            new_width = desired_size\n",
    "            new_height = desired_size\n",
    "            \n",
    "            if resize_strategy == \"scale_smallest_side\":\n",
    "                if width > height:\n",
    "                    new_width *= width / height\n",
    "                    new_width = round(new_width)\n",
    "                else:\n",
    "                    new_height *= height / width\n",
    "                    new_height = round(new_height)\n",
    "            \n",
    "            image = image.resize((new_width, new_height))\n",
    "            image.save(save_loc)"
   ]
  },
  {
   "cell_type": "code",
   "execution_count": 181,
   "id": "1de326d4-cdf6-4b57-a15a-cf085fef9322",
   "metadata": {
    "tags": []
   },
   "outputs": [],
   "source": [
    "save_images(f\"{store_folder}/X/train\", domain_folders[0], domain_X_train_imgs, resize_strategy, img_file_ext, width)\n",
    "save_images(f\"{store_folder}/X/test\", domain_folders[0], domain_X_test_imgs, resize_strategy, img_file_ext, width)\n",
    "save_images(f\"{store_folder}/Y/train\", domain_folders[1], domain_Y_train_imgs, resize_strategy, img_file_ext, width)\n",
    "save_images(f\"{store_folder}/Y/test\", domain_folders[1], domain_Y_test_imgs, resize_strategy, img_file_ext, width)"
   ]
  },
  {
   "cell_type": "code",
   "execution_count": null,
   "id": "2ab29adc-2066-49f2-b776-8bc91ed0f9a5",
   "metadata": {},
   "outputs": [],
   "source": []
  }
 ],
 "metadata": {
  "kernelspec": {
   "display_name": "Python 3 (ipykernel)",
   "language": "python",
   "name": "python3"
  },
  "language_info": {
   "codemirror_mode": {
    "name": "ipython",
    "version": 3
   },
   "file_extension": ".py",
   "mimetype": "text/x-python",
   "name": "python",
   "nbconvert_exporter": "python",
   "pygments_lexer": "ipython3",
   "version": "3.10.7"
  }
 },
 "nbformat": 4,
 "nbformat_minor": 5
}
