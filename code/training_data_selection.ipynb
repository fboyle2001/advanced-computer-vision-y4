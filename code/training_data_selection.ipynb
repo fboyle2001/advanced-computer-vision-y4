{
 "cells": [
  {
   "cell_type": "code",
   "execution_count": 1,
   "id": "8dc59ffb-214f-490d-9f16-9942875cad6e",
   "metadata": {
    "tags": []
   },
   "outputs": [],
   "source": [
    "import random\n",
    "import time\n",
    "import os\n",
    "import shutil\n",
    "import json\n",
    "\n",
    "from tqdm.notebook import tqdm\n",
    "\n",
    "import cv2\n",
    "import numpy as np\n",
    "\n",
    "import torch\n",
    "import torchvision\n",
    "import torch.nn as nn\n",
    "import torch.optim as optim\n",
    "\n",
    "from PIL import Image\n",
    "from IPython import display\n",
    "\n",
    "from torchvision.transforms import transforms\n",
    "import torch.utils.data\n",
    "from torchsummary import summary\n",
    "\n",
    "import matplotlib.pyplot as plt\n",
    "import itertools\n",
    "\n",
    "from pytorchCycleGANandpix2pix.models import networks as offnets\n",
    "from pytorchCycleGANandpix2pix.util.image_pool import ImagePool\n",
    "from pytorchCycleGANandpix2pix.util.util import tensor2im\n",
    "\n",
    "import cyclegan_models"
   ]
  },
  {
   "cell_type": "code",
   "execution_count": 2,
   "id": "5a3129f0-5873-4e8f-ba0e-54d21e7e2361",
   "metadata": {
    "tags": []
   },
   "outputs": [],
   "source": [
    "train_target_size = 1200\n",
    "test_target_size = int(train_target_size * 0.2)\n",
    "domain_folders = [\"./output/pose_classified_game\", \"./output/pose_classified_movie\"]\n",
    "class_folders = [\"Half Body\"] # [\"Full Body Sitting\", \"Full Body Standing\", \"Half Body\", \"Head Only\"]#, \"Other\"]\n",
    "img_file_ext = \".jpg\"\n",
    "store_folder = f\"./selected_data/experiment_random_half_only_{time.time()}\"\n",
    "width = 128"
   ]
  },
  {
   "cell_type": "code",
   "execution_count": 3,
   "id": "f7f1ceba-7db0-4833-98ac-365a791636ad",
   "metadata": {
    "tags": []
   },
   "outputs": [],
   "source": [
    "def get_class_images(domain_folder, class_folders):\n",
    "    images = {}\n",
    "    total = 0\n",
    "    \n",
    "    for class_folder in class_folders:\n",
    "        files = os.listdir(f\"{domain_folder}/{class_folder}\")\n",
    "        image_files = [x for x in files if x.endswith(img_file_ext)]\n",
    "        images[class_folder] = image_files\n",
    "        total += len(image_files)\n",
    "        \n",
    "    return images, total"
   ]
  },
  {
   "cell_type": "code",
   "execution_count": 4,
   "id": "7f29a1c6-a898-4ddc-87c8-0dbae4caba49",
   "metadata": {
    "tags": []
   },
   "outputs": [],
   "source": [
    "domain_X_imgs, domain_X_total = get_class_images(domain_folders[0], class_folders)\n",
    "domain_X_dist = {k: len(domain_X_imgs[k]) / domain_X_total for k in domain_X_imgs.keys()}"
   ]
  },
  {
   "cell_type": "code",
   "execution_count": 5,
   "id": "eebece54-5fc1-4ac1-889a-f1431fce0a56",
   "metadata": {
    "tags": []
   },
   "outputs": [],
   "source": [
    "domain_Y_imgs, domain_Y_total = get_class_images(domain_folders[1], class_folders)\n",
    "domain_Y_dist = {k: len(domain_Y_imgs[k]) / domain_Y_total for k in domain_Y_imgs.keys()}"
   ]
  },
  {
   "cell_type": "code",
   "execution_count": 6,
   "id": "2a9bba95-829d-4e00-bf15-735870889ce9",
   "metadata": {
    "tags": []
   },
   "outputs": [],
   "source": [
    "random_class_dist = {k: 1 / len(class_folders) for k in class_folders}"
   ]
  },
  {
   "cell_type": "code",
   "execution_count": 7,
   "id": "a051639c-e557-402b-9fa6-5a8869f35108",
   "metadata": {
    "tags": []
   },
   "outputs": [],
   "source": [
    "selected_sampling_dist_type = [\"stratified_domain_X\", \"stratified_domain_Y\", \"random\"][2]\n",
    "selected_sampling_dist = {\n",
    "    \"stratified_domain_X\": domain_X_dist,\n",
    "    \"stratified_domain_Y\": domain_Y_dist,\n",
    "    \"random\": random_class_dist\n",
    "}[selected_sampling_dist_type]"
   ]
  },
  {
   "cell_type": "code",
   "execution_count": 8,
   "id": "cbe0fce0-d370-4329-83b2-2a8975272f79",
   "metadata": {
    "tags": []
   },
   "outputs": [],
   "source": [
    "resize_strategy = [\"scale_smallest_side\", \"force_resize\"][0]\n",
    "# scale_smallest_side will scale to smallest side to <width> while maintaining the aspect ratio\n",
    "# they are then cropped in the dataset for variation before going into the model during training"
   ]
  },
  {
   "cell_type": "code",
   "execution_count": 9,
   "id": "88396c70-00c4-4809-9e44-9b45a526ad18",
   "metadata": {
    "tags": []
   },
   "outputs": [],
   "source": [
    "excess_allocation_strategy = [\"random_reallocation\", \"ignore\"][1]"
   ]
  },
  {
   "cell_type": "code",
   "execution_count": 10,
   "id": "862ff09e-d08e-454c-94b6-cf3fa85e7342",
   "metadata": {
    "tags": []
   },
   "outputs": [],
   "source": [
    "def sample_images(class_folders, sampling_distribution, class_imgs, train_size, test_size, excess_allocation_strategy):\n",
    "    # Start by figuring out how much of each class we want to actually sample\n",
    "    expected_allocations = {class_name: round(sampling_distribution[class_name] * (train_size + test_size)) for class_name in class_folders}\n",
    "    \n",
    "    # Now check if we want more images than we actually have, if so we need to reallocate or fix the sample count\n",
    "    # print({class_name: len(class_imgs[class_name]) for class_name in class_folders})\n",
    "    # print(expected_allocations)\n",
    "    \n",
    "    excess_allocations = {class_name: abs(min(0, len(class_imgs[class_name]) - expected_allocations[class_name])) for class_name in class_folders}\n",
    "    \n",
    "    if excess_allocation_strategy == \"random_reallocation\":\n",
    "        excluded_classes = set()\n",
    "        \n",
    "        while sum(excess_allocations.values()) != 0 and len(excluded_classes) != len(class_folders):\n",
    "            classes_with_space = [class_name for class_name in excess_allocations.keys() if excess_allocations[class_name] == 0 and class_name not in excluded_classes]\n",
    "            excess_amount_per_class = sum(excess_allocations.values()) // len(classes_with_space)\n",
    "            \n",
    "            for class_name in classes_with_space:\n",
    "                expected_allocations[class_name] += excess_amount_per_class\n",
    "            \n",
    "            for class_name in excess_allocations.keys():\n",
    "                if class_name not in classes_with_space:\n",
    "                    expected_allocations[class_name] = len(class_imgs[class_name])\n",
    "                    excluded_classes.add(class_name)\n",
    "            \n",
    "            excess_allocations = {class_name: abs(min(0, len(class_imgs[class_name]) - expected_allocations[class_name])) for class_name in class_folders}\n",
    "    else:\n",
    "        for class_name in excess_allocations.keys():\n",
    "            if excess_allocations[class_name] > 0:\n",
    "                expected_allocations[class_name] = len(class_imgs[class_name])\n",
    "    \n",
    "    # print(expected_allocations)\n",
    "    \n",
    "    train_split = {}\n",
    "    test_split = {}\n",
    "    \n",
    "    for class_name in class_folders:\n",
    "        total_allocation = expected_allocations[class_name]\n",
    "        train_allocation = round(expected_allocations[class_name] * (train_size / (train_size + test_size)))\n",
    "        \n",
    "        sampled_class_imgs = random.sample(class_imgs[class_name], total_allocation)\n",
    "        train_split[class_name] = sampled_class_imgs[:train_allocation]\n",
    "        test_split[class_name] = sampled_class_imgs[train_allocation:]\n",
    "    \n",
    "    return train_split, test_split"
   ]
  },
  {
   "cell_type": "code",
   "execution_count": 11,
   "id": "2548d4d1-0df9-459c-91f7-5aa081ae927d",
   "metadata": {
    "tags": []
   },
   "outputs": [],
   "source": [
    "domain_X_train_imgs, domain_X_test_imgs = sample_images(class_folders, selected_sampling_dist, domain_X_imgs, train_target_size, test_target_size, excess_allocation_strategy)"
   ]
  },
  {
   "cell_type": "code",
   "execution_count": 12,
   "id": "22f6f8d9-7479-4587-9b3e-95233367b79e",
   "metadata": {
    "tags": []
   },
   "outputs": [],
   "source": [
    "domain_Y_train_imgs, domain_Y_test_imgs = sample_images(class_folders, selected_sampling_dist, domain_Y_imgs, train_target_size, test_target_size, excess_allocation_strategy)"
   ]
  },
  {
   "cell_type": "code",
   "execution_count": 13,
   "id": "f19821f9-ab56-4e14-a2f9-203eacc8e16a",
   "metadata": {
    "tags": []
   },
   "outputs": [],
   "source": [
    "try:\n",
    "    shutil.rmtree(store_folder)\n",
    "except OSError:\n",
    "    pass\n",
    "\n",
    "os.makedirs(store_folder)\n",
    "os.makedirs(f\"{store_folder}/X/train\")\n",
    "os.makedirs(f\"{store_folder}/X/test\")\n",
    "os.makedirs(f\"{store_folder}/Y/train\")\n",
    "os.makedirs(f\"{store_folder}/Y/test\")"
   ]
  },
  {
   "cell_type": "code",
   "execution_count": 14,
   "id": "f07176ef-65c7-4d1f-885e-3982ac77dd11",
   "metadata": {
    "tags": []
   },
   "outputs": [],
   "source": [
    "with open(f\"{store_folder}/info.json\", \"w+\") as fp:\n",
    "    json.dump({\n",
    "        \"class_folders\": class_folders,\n",
    "        \"domain_folders\": domain_folders,\n",
    "        \"selected_sampling_dist_type\": selected_sampling_dist_type,\n",
    "        \"selected_sampling_dist\": selected_sampling_dist,\n",
    "        \"resize_strategy\": resize_strategy,\n",
    "        \"excess_allocation_strategy\": excess_allocation_strategy,\n",
    "        \"img_file_ext\": img_file_ext,\n",
    "        \"store_folder\": store_folder,\n",
    "        \"width\": width,\n",
    "        \"train_target_size\": train_target_size,\n",
    "        \"test_target_size\": test_target_size,\n",
    "        \"X\": {\n",
    "            \"org_dist\": domain_X_dist,\n",
    "            \"train\": {k: len(domain_X_train_imgs[k]) for k in class_folders},\n",
    "            \"test\": {k: len(domain_X_test_imgs[k]) for k in class_folders}\n",
    "        },\n",
    "        \"Y\": {\n",
    "            \"org_dist\": domain_Y_dist,\n",
    "            \"train\": {k: len(domain_Y_train_imgs[k]) for k in class_folders},\n",
    "            \"test\": {k: len(domain_Y_test_imgs[k]) for k in class_folders}\n",
    "        }\n",
    "    }, fp, indent=2)"
   ]
  },
  {
   "cell_type": "code",
   "execution_count": 15,
   "id": "1d6257d4-7616-460d-b16b-6a3cd59d2ec0",
   "metadata": {
    "tags": []
   },
   "outputs": [],
   "source": [
    "def save_images(save_folder, original_folder, class_images, resize_strategy, img_file_ext, desired_size):\n",
    "    for class_name in class_images.keys():\n",
    "        save_class_name = \"_\".join(class_name.lower().split(\" \"))\n",
    "        \n",
    "        for i, image_name in enumerate(tqdm(class_images[class_name])):\n",
    "            original_loc = f\"{original_folder}/{class_name}/{image_name}\"\n",
    "            save_loc = f\"{save_folder}/{save_class_name}_{i}{img_file_ext}\"\n",
    "            \n",
    "            image = Image.open(original_loc)\n",
    "            width, height = image.width, image.height\n",
    "            \n",
    "            if min(width, height) < 1.0 * desired_size: # maybe should try this with min(width, height) instead\n",
    "                print(\"Skipped\", image_name)\n",
    "                continue\n",
    "            \n",
    "            new_width = desired_size\n",
    "            new_height = desired_size\n",
    "            \n",
    "            if resize_strategy == \"scale_smallest_side\":\n",
    "                if width > height:\n",
    "                    new_width *= width / height\n",
    "                    new_width = round(new_width)\n",
    "                else:\n",
    "                    new_height *= height / width\n",
    "                    new_height = round(new_height)\n",
    "            \n",
    "            image = image.resize((new_width, new_height))\n",
    "            image.save(save_loc)"
   ]
  },
  {
   "cell_type": "code",
   "execution_count": 16,
   "id": "1de326d4-cdf6-4b57-a15a-cf085fef9322",
   "metadata": {
    "tags": []
   },
   "outputs": [
    {
     "data": {
      "application/vnd.jupyter.widget-view+json": {
       "model_id": "d2d49ee9f8d64677a1d1fb441c246b9e",
       "version_major": 2,
       "version_minor": 0
      },
      "text/plain": [
       "  0%|          | 0/1200 [00:00<?, ?it/s]"
      ]
     },
     "metadata": {},
     "output_type": "display_data"
    },
    {
     "name": "stdout",
     "output_type": "stream",
     "text": [
      "Skipped Segmented_Train_Game_05_00029_7.jpg\n",
      "Skipped Segmented_Train_Game_06_00188_4.jpg\n",
      "Skipped Segmented_Train_Game_02_00058_6.jpg\n",
      "Skipped Segmented_Train_Game_05_00029_3.jpg\n",
      "Skipped Segmented_Train_Game_06_00403_5.jpg\n",
      "Skipped Segmented_Train_Game_06_00430_4.jpg\n",
      "Skipped Segmented_Train_Game_09_00559_0.jpg\n",
      "Skipped Segmented_Train_Game_05_00011_8.jpg\n",
      "Skipped Segmented_Train_Game_05_00108_5.jpg\n",
      "Skipped Segmented_Train_Game_06_00434_5.jpg\n",
      "Skipped Segmented_Train_Game_06_00422_4.jpg\n",
      "Skipped Segmented_Train_Game_06_00376_3.jpg\n",
      "Skipped Segmented_Train_Game_09_00547_1.jpg\n",
      "Skipped Segmented_Train_Game_05_00156_9.jpg\n",
      "Skipped Segmented_Train_Game_02_00173_2.jpg\n",
      "Skipped Segmented_Train_Game_05_00040_7.jpg\n",
      "Skipped Segmented_Train_Game_01_01048_1.jpg\n",
      "Skipped Segmented_Train_Game_05_00030_2.jpg\n",
      "Skipped Segmented_Train_Game_09_00166_1.jpg\n",
      "Skipped Segmented_Train_Game_06_00408_4.jpg\n",
      "Skipped Segmented_Train_Game_02_00300_4.jpg\n",
      "Skipped Segmented_Train_Game_05_00042_8.jpg\n",
      "Skipped Segmented_Train_Game_02_00056_6.jpg\n",
      "Skipped Segmented_Train_Game_05_00143_9.jpg\n",
      "Skipped Segmented_Train_Game_09_00551_1.jpg\n",
      "Skipped Segmented_Train_Game_05_00024_5.jpg\n",
      "Skipped Segmented_Train_Game_05_00031_10.jpg\n",
      "Skipped Segmented_Train_Game_09_00548_1.jpg\n",
      "Skipped Segmented_Train_Game_06_00413_5.jpg\n",
      "Skipped Segmented_Train_Game_05_00014_7.jpg\n",
      "Skipped Segmented_Train_Game_09_00540_1.jpg\n",
      "Skipped Segmented_Train_Game_05_00138_8.jpg\n",
      "Skipped Segmented_Train_Game_09_00554_1.jpg\n",
      "Skipped Segmented_Train_Game_06_00275_4.jpg\n",
      "Skipped Segmented_Train_Game_02_00301_4.jpg\n",
      "Skipped Segmented_Train_Game_06_00380_3.jpg\n",
      "Skipped Segmented_Train_Game_06_00437_4.jpg\n",
      "Skipped Segmented_Train_Game_06_00436_4.jpg\n",
      "Skipped Segmented_Train_Game_05_00011_5.jpg\n",
      "Skipped Segmented_Train_Game_06_00435_5.jpg\n",
      "Skipped Segmented_Train_Game_06_00425_4.jpg\n",
      "Skipped Segmented_Train_Game_05_00124_7.jpg\n",
      "Skipped Segmented_Train_Game_09_00559_1.jpg\n",
      "Skipped Segmented_Train_Game_05_00026_4.jpg\n",
      "Skipped Segmented_Train_Game_02_00157_2.jpg\n",
      "Skipped Segmented_Train_Game_06_00407_5.jpg\n",
      "Skipped Segmented_Train_Game_06_00428_4.jpg\n",
      "Skipped Segmented_Train_Game_02_00170_2.jpg\n",
      "Skipped Segmented_Train_Game_09_00547_0.jpg\n",
      "Skipped Segmented_Train_Game_05_00122_5.jpg\n",
      "Skipped Segmented_Train_Game_06_00435_4.jpg\n",
      "Skipped Segmented_Train_Game_05_00127_8.jpg\n",
      "Skipped Segmented_Train_Game_09_00170_1.jpg\n",
      "Skipped Segmented_Train_Game_06_00416_5.jpg\n",
      "Skipped Segmented_Train_Game_05_00112_3.jpg\n",
      "Skipped Segmented_Train_Game_05_00112_6.jpg\n",
      "Skipped Segmented_Train_Game_05_00129_6.jpg\n",
      "Skipped Segmented_Train_Game_05_00137_7.jpg\n",
      "Skipped Segmented_Train_Game_05_00004_7.jpg\n",
      "Skipped Segmented_Train_Game_06_00426_4.jpg\n",
      "Skipped Segmented_Train_Game_02_00171_4.jpg\n",
      "Skipped Segmented_Train_Game_05_00030_7.jpg\n",
      "Skipped Segmented_Train_Game_02_00119_2.jpg\n",
      "Skipped Segmented_Train_Game_09_00171_0.jpg\n",
      "Skipped Segmented_Train_Game_05_00151_5.jpg\n",
      "Skipped Segmented_Train_Game_05_00006_8.jpg\n",
      "Skipped Segmented_Train_Game_05_00024_8.jpg\n",
      "Skipped Segmented_Train_Game_05_00041_8.jpg\n",
      "Skipped Segmented_Train_Game_05_00025_4.jpg\n",
      "Skipped Segmented_Train_Game_05_00043_8.jpg\n",
      "Skipped Segmented_Train_Game_06_00450_4.jpg\n"
     ]
    },
    {
     "data": {
      "application/vnd.jupyter.widget-view+json": {
       "model_id": "a46aa97b5fc4428b8af3baad2332b21f",
       "version_major": 2,
       "version_minor": 0
      },
      "text/plain": [
       "  0%|          | 0/240 [00:00<?, ?it/s]"
      ]
     },
     "metadata": {},
     "output_type": "display_data"
    },
    {
     "name": "stdout",
     "output_type": "stream",
     "text": [
      "Skipped Segmented_Train_Game_06_00396_6.jpg\n",
      "Skipped Segmented_Train_Game_06_00450_5.jpg\n",
      "Skipped Segmented_Train_Game_06_00414_4.jpg\n",
      "Skipped Segmented_Train_Game_05_00034_9.jpg\n",
      "Skipped Segmented_Train_Game_02_00202_4.jpg\n",
      "Skipped Segmented_Train_Game_01_01050_1.jpg\n",
      "Skipped Segmented_Train_Game_05_00127_6.jpg\n",
      "Skipped Segmented_Train_Game_06_00438_4.jpg\n",
      "Skipped Segmented_Train_Game_02_00189_6.jpg\n",
      "Skipped Segmented_Train_Game_06_00445_4.jpg\n",
      "Skipped Segmented_Train_Game_02_00179_4.jpg\n",
      "Skipped Segmented_Train_Game_06_00439_5.jpg\n",
      "Skipped Segmented_Train_Game_05_00107_4.jpg\n",
      "Skipped Segmented_Train_Game_02_00215_4.jpg\n",
      "Skipped Segmented_Train_Game_05_00017_9.jpg\n"
     ]
    },
    {
     "data": {
      "application/vnd.jupyter.widget-view+json": {
       "model_id": "777b2b220840479aa87f9c9397c7a1a4",
       "version_major": 2,
       "version_minor": 0
      },
      "text/plain": [
       "  0%|          | 0/1200 [00:00<?, ?it/s]"
      ]
     },
     "metadata": {},
     "output_type": "display_data"
    },
    {
     "name": "stdout",
     "output_type": "stream",
     "text": [
      "Skipped Segmented_Train_Movie_02_00062_0.jpg\n",
      "Skipped Segmented_Train_Movie_03_00631_0.jpg\n",
      "Skipped Segmented_Train_Movie_01_01443_0.jpg\n",
      "Skipped Segmented_Train_Movie_03_00627_1.jpg\n",
      "Skipped Segmented_Train_Movie_03_02200_0.jpg\n",
      "Skipped Segmented_Train_Movie_02_00042_1.jpg\n",
      "Skipped Segmented_Train_Movie_03_01358_1.jpg\n",
      "Skipped Segmented_Train_Movie_03_00644_0.jpg\n",
      "Skipped Segmented_Train_Movie_01_00703_1.jpg\n",
      "Skipped Segmented_Train_Movie_01_00720_3.jpg\n",
      "Skipped Segmented_Train_Movie_03_01275_4.jpg\n",
      "Skipped Segmented_Train_Movie_03_00622_0.jpg\n",
      "Skipped Segmented_Train_Movie_03_00315_0.jpg\n",
      "Skipped Segmented_Train_Movie_01_01427_0.jpg\n",
      "Skipped Segmented_Train_Movie_03_00617_1.jpg\n",
      "Skipped Segmented_Train_Movie_03_00998_1.jpg\n",
      "Skipped Segmented_Train_Movie_03_02262_1.jpg\n",
      "Skipped Segmented_Train_Movie_01_01440_0.jpg\n",
      "Skipped Segmented_Train_Movie_01_00687_1.jpg\n",
      "Skipped Segmented_Train_Movie_02_00069_2.jpg\n",
      "Skipped Segmented_Train_Movie_03_01296_2.jpg\n",
      "Skipped Segmented_Train_Movie_03_00607_0.jpg\n",
      "Skipped Segmented_Train_Movie_03_01284_1.jpg\n",
      "Skipped Segmented_Train_Movie_03_01027_1.jpg\n",
      "Skipped Segmented_Train_Movie_03_01010_2.jpg\n",
      "Skipped Segmented_Train_Movie_03_02263_0.jpg\n",
      "Skipped Segmented_Train_Movie_02_00556_6.jpg\n",
      "Skipped Segmented_Train_Movie_01_01382_0.jpg\n",
      "Skipped Segmented_Train_Movie_03_01295_0.jpg\n",
      "Skipped Segmented_Train_Movie_02_00536_3.jpg\n",
      "Skipped Segmented_Train_Movie_03_01385_1.jpg\n",
      "Skipped Segmented_Train_Movie_03_01008_0.jpg\n",
      "Skipped Segmented_Train_Movie_02_00043_2.jpg\n",
      "Skipped Segmented_Train_Movie_01_01435_0.jpg\n",
      "Skipped Segmented_Train_Movie_03_00646_0.jpg\n",
      "Skipped Segmented_Train_Movie_03_01001_1.jpg\n",
      "Skipped Segmented_Train_Movie_03_00569_5.jpg\n",
      "Skipped Segmented_Train_Movie_03_01019_2.jpg\n",
      "Skipped Segmented_Train_Movie_03_02265_0.jpg\n",
      "Skipped Segmented_Train_Movie_03_02209_0.jpg\n",
      "Skipped Segmented_Train_Movie_03_01013_5.jpg\n",
      "Skipped Segmented_Train_Movie_03_00610_0.jpg\n",
      "Skipped Segmented_Train_Movie_03_01457_0.jpg\n",
      "Skipped Segmented_Train_Movie_03_01297_1.jpg\n",
      "Skipped Segmented_Train_Movie_03_00624_2.jpg\n",
      "Skipped Segmented_Train_Movie_03_01052_0.jpg\n",
      "Skipped Segmented_Train_Movie_03_02214_0.jpg\n",
      "Skipped Segmented_Train_Movie_03_00634_0.jpg\n",
      "Skipped Segmented_Train_Movie_03_00463_0.jpg\n",
      "Skipped Segmented_Train_Movie_02_00063_3.jpg\n",
      "Skipped Segmented_Train_Movie_03_00630_2.jpg\n",
      "Skipped Segmented_Train_Movie_03_02201_0.jpg\n",
      "Skipped Segmented_Train_Movie_03_01001_2.jpg\n",
      "Skipped Segmented_Train_Movie_03_01008_2.jpg\n",
      "Skipped Segmented_Train_Movie_03_01300_0.jpg\n",
      "Skipped Segmented_Train_Movie_03_00633_0.jpg\n",
      "Skipped Segmented_Train_Movie_03_00645_2.jpg\n",
      "Skipped Segmented_Train_Movie_02_00550_1.jpg\n",
      "Skipped Segmented_Train_Movie_02_00063_1.jpg\n",
      "Skipped Segmented_Train_Movie_03_00626_0.jpg\n",
      "Skipped Segmented_Train_Movie_03_00640_2.jpg\n",
      "Skipped Segmented_Train_Movie_01_01424_0.jpg\n",
      "Skipped Segmented_Train_Movie_03_00618_1.jpg\n",
      "Skipped Segmented_Train_Movie_03_01009_2.jpg\n",
      "Skipped Segmented_Train_Movie_01_01419_0.jpg\n",
      "Skipped Segmented_Train_Movie_03_00630_0.jpg\n",
      "Skipped Segmented_Train_Movie_03_00641_2.jpg\n",
      "Skipped Segmented_Train_Movie_03_01011_4.jpg\n",
      "Skipped Segmented_Train_Movie_03_01025_2.jpg\n",
      "Skipped Segmented_Train_Movie_03_00619_1.jpg\n",
      "Skipped Segmented_Train_Movie_03_01012_4.jpg\n",
      "Skipped Segmented_Train_Movie_03_00635_3.jpg\n",
      "Skipped Segmented_Train_Movie_02_00538_0.jpg\n",
      "Skipped Segmented_Train_Movie_03_02269_0.jpg\n",
      "Skipped Segmented_Train_Movie_03_01338_0.jpg\n",
      "Skipped Segmented_Train_Movie_03_00557_6.jpg\n",
      "Skipped Segmented_Train_Movie_03_01002_2.jpg\n",
      "Skipped Segmented_Train_Movie_03_01299_3.jpg\n",
      "Skipped Segmented_Train_Movie_03_00998_2.jpg\n",
      "Skipped Segmented_Train_Movie_03_01456_0.jpg\n",
      "Skipped Segmented_Train_Movie_01_00142_2.jpg\n",
      "Skipped Segmented_Train_Movie_03_01301_0.jpg\n",
      "Skipped Segmented_Train_Movie_03_02208_0.jpg\n",
      "Skipped Segmented_Train_Movie_03_00997_2.jpg\n",
      "Skipped Segmented_Train_Movie_03_00630_1.jpg\n",
      "Skipped Segmented_Train_Movie_03_02267_0.jpg\n",
      "Skipped Segmented_Train_Movie_03_01003_2.jpg\n",
      "Skipped Segmented_Train_Movie_03_01256_1.jpg\n",
      "Skipped Segmented_Train_Movie_03_01501_0.jpg\n",
      "Skipped Segmented_Train_Movie_03_02266_1.jpg\n",
      "Skipped Segmented_Train_Movie_01_01408_0.jpg\n",
      "Skipped Segmented_Train_Movie_02_00065_2.jpg\n",
      "Skipped Segmented_Train_Movie_03_01455_0.jpg\n",
      "Skipped Segmented_Train_Movie_03_00288_0.jpg\n",
      "Skipped Segmented_Train_Movie_01_01434_0.jpg\n",
      "Skipped Segmented_Train_Movie_01_00706_3.jpg\n",
      "Skipped Segmented_Train_Movie_03_00624_0.jpg\n",
      "Skipped Segmented_Train_Movie_03_00999_3.jpg\n",
      "Skipped Segmented_Train_Movie_02_00045_1.jpg\n",
      "Skipped Segmented_Train_Movie_03_01004_2.jpg\n",
      "Skipped Segmented_Train_Movie_03_00608_0.jpg\n",
      "Skipped Segmented_Train_Movie_03_00623_0.jpg\n",
      "Skipped Segmented_Train_Movie_03_02245_0.jpg\n",
      "Skipped Segmented_Train_Movie_03_01011_2.jpg\n",
      "Skipped Segmented_Train_Movie_03_01021_1.jpg\n",
      "Skipped Segmented_Train_Movie_03_00606_0.jpg\n",
      "Skipped Segmented_Train_Movie_03_00605_0.jpg\n",
      "Skipped Segmented_Train_Movie_03_01305_2.jpg\n",
      "Skipped Segmented_Train_Movie_01_00698_3.jpg\n",
      "Skipped Segmented_Train_Movie_03_00625_0.jpg\n",
      "Skipped Segmented_Train_Movie_03_00635_2.jpg\n",
      "Skipped Segmented_Train_Movie_02_00030_0.jpg\n",
      "Skipped Segmented_Train_Movie_03_00614_0.jpg\n",
      "Skipped Segmented_Train_Movie_03_02268_0.jpg\n",
      "Skipped Segmented_Train_Movie_03_02247_1.jpg\n",
      "Skipped Segmented_Train_Movie_03_00359_0.jpg\n",
      "Skipped Segmented_Train_Movie_03_00632_0.jpg\n",
      "Skipped Segmented_Train_Movie_03_02270_1.jpg\n"
     ]
    },
    {
     "data": {
      "application/vnd.jupyter.widget-view+json": {
       "model_id": "0dd1706126cf41cd8d36f59a39242915",
       "version_major": 2,
       "version_minor": 0
      },
      "text/plain": [
       "  0%|          | 0/240 [00:00<?, ?it/s]"
      ]
     },
     "metadata": {},
     "output_type": "display_data"
    },
    {
     "name": "stdout",
     "output_type": "stream",
     "text": [
      "Skipped Segmented_Train_Movie_03_01006_2.jpg\n",
      "Skipped Segmented_Train_Movie_03_01028_0.jpg\n",
      "Skipped Segmented_Train_Movie_02_00060_1.jpg\n",
      "Skipped Segmented_Train_Movie_02_00536_0.jpg\n",
      "Skipped Segmented_Train_Movie_01_01346_0.jpg\n",
      "Skipped Segmented_Train_Movie_03_01014_2.jpg\n",
      "Skipped Segmented_Train_Movie_03_01381_3.jpg\n",
      "Skipped Segmented_Train_Movie_03_01302_0.jpg\n",
      "Skipped Segmented_Train_Movie_03_02206_0.jpg\n",
      "Skipped Segmented_Train_Movie_03_00625_1.jpg\n",
      "Skipped Segmented_Train_Movie_01_00136_2.jpg\n",
      "Skipped Segmented_Train_Movie_01_01388_0.jpg\n",
      "Skipped Segmented_Train_Movie_01_01411_0.jpg\n",
      "Skipped Segmented_Train_Movie_03_00613_0.jpg\n",
      "Skipped Segmented_Train_Movie_03_00626_2.jpg\n",
      "Skipped Segmented_Train_Movie_01_00130_1.jpg\n",
      "Skipped Segmented_Train_Movie_03_01389_0.jpg\n",
      "Skipped Segmented_Train_Movie_02_00551_1.jpg\n",
      "Skipped Segmented_Train_Movie_03_00615_0.jpg\n",
      "Skipped Segmented_Train_Movie_03_01275_2.jpg\n",
      "Skipped Segmented_Train_Movie_02_00054_2.jpg\n",
      "Skipped Segmented_Train_Movie_03_00628_0.jpg\n",
      "Skipped Segmented_Train_Movie_03_01000_0.jpg\n",
      "Skipped Segmented_Train_Movie_03_00616_0.jpg\n",
      "Skipped Segmented_Train_Movie_02_00552_3.jpg\n",
      "Skipped Segmented_Train_Movie_03_00611_0.jpg\n",
      "Skipped Segmented_Train_Movie_03_01005_2.jpg\n",
      "Skipped Segmented_Train_Movie_03_00623_1.jpg\n",
      "Skipped Segmented_Train_Movie_01_00269_2.jpg\n",
      "Skipped Segmented_Train_Movie_02_00065_3.jpg\n",
      "Skipped Segmented_Train_Movie_03_00647_0.jpg\n",
      "Skipped Segmented_Train_Movie_03_02210_0.jpg\n"
     ]
    }
   ],
   "source": [
    "save_images(f\"{store_folder}/X/train\", domain_folders[0], domain_X_train_imgs, resize_strategy, img_file_ext, width)\n",
    "save_images(f\"{store_folder}/X/test\", domain_folders[0], domain_X_test_imgs, resize_strategy, img_file_ext, width)\n",
    "save_images(f\"{store_folder}/Y/train\", domain_folders[1], domain_Y_train_imgs, resize_strategy, img_file_ext, width)\n",
    "save_images(f\"{store_folder}/Y/test\", domain_folders[1], domain_Y_test_imgs, resize_strategy, img_file_ext, width)"
   ]
  },
  {
   "cell_type": "code",
   "execution_count": null,
   "id": "2ab29adc-2066-49f2-b776-8bc91ed0f9a5",
   "metadata": {},
   "outputs": [],
   "source": []
  },
  {
   "cell_type": "code",
   "execution_count": null,
   "id": "f26820a7",
   "metadata": {},
   "outputs": [],
   "source": []
  }
 ],
 "metadata": {
  "kernelspec": {
   "display_name": "Python 3 (ipykernel)",
   "language": "python",
   "name": "python3"
  },
  "language_info": {
   "codemirror_mode": {
    "name": "ipython",
    "version": 3
   },
   "file_extension": ".py",
   "mimetype": "text/x-python",
   "name": "python",
   "nbconvert_exporter": "python",
   "pygments_lexer": "ipython3",
   "version": "3.10.7"
  }
 },
 "nbformat": 4,
 "nbformat_minor": 5
}
